{
 "cells": [
  {
   "cell_type": "code",
   "execution_count": 2,
   "metadata": {},
   "outputs": [],
   "source": [
    "# Common imports (ignore unused)\n",
    "import polars as pl  # noqa: F401\n",
    "import pandas as pd  # noqa: F401\n",
    "import numpy as np  # noqa: F401"
   ]
  },
  {
   "cell_type": "markdown",
   "metadata": {},
   "source": [
    "## Using `ipytest`\n",
    "\n",
    "To use `ipytest`, refer here for docs: <https://pypi.org/project/ipytest/>\n",
    "\n",
    "Short version: Add `%%ipytest -v` to the top of a cell. Pytest-style tests within the cell will be run automatically via `pytest` itself."
   ]
  },
  {
   "cell_type": "code",
   "execution_count": 3,
   "metadata": {},
   "outputs": [],
   "source": [
    "# Testing tools\n",
    "import ipytest\n",
    "\n",
    "ipytest.autoconfig()"
   ]
  },
  {
   "cell_type": "code",
   "execution_count": 12,
   "metadata": {},
   "outputs": [
    {
     "name": "stdout",
     "output_type": "stream",
     "text": [
      "\u001b[1m======================================= test session starts ========================================\u001b[0m\n",
      "platform linux -- Python 3.12.1, pytest-7.4.4, pluggy-1.3.0 -- /home/griceturrble/.cache/pypoetry/virtualenvs/scratchpad-uyv5OavX-py3.12/bin/python\n",
      "cachedir: .pytest_cache\n",
      "Using --randomly-seed=1275629139\n",
      "rootdir: /home/griceturrble/dev/gits/advent-of-code/scratchpad\n",
      "plugins: randomly-3.15.0\n",
      "\u001b[1mcollecting ... \u001b[0m"
     ]
    },
    {
     "name": "stdout",
     "output_type": "stream",
     "text": [
      "collected 9 items\n",
      "\n",
      "t_d62a9d0a029c405fa17ce3dd71577390.py::test_something[4-1] \u001b[32mPASSED\u001b[0m\u001b[32m                            [ 11%]\u001b[0m\n",
      "t_d62a9d0a029c405fa17ce3dd71577390.py::test_something[4-3] \u001b[32mPASSED\u001b[0m\u001b[32m                            [ 22%]\u001b[0m\n",
      "t_d62a9d0a029c405fa17ce3dd71577390.py::test_something[5-3] \u001b[32mPASSED\u001b[0m\u001b[32m                            [ 33%]\u001b[0m\n",
      "t_d62a9d0a029c405fa17ce3dd71577390.py::test_something[6-1] \u001b[32mPASSED\u001b[0m\u001b[32m                            [ 44%]\u001b[0m\n",
      "t_d62a9d0a029c405fa17ce3dd71577390.py::test_something[5-1] \u001b[32mPASSED\u001b[0m\u001b[32m                            [ 55%]\u001b[0m\n",
      "t_d62a9d0a029c405fa17ce3dd71577390.py::test_something[6-3] \u001b[32mPASSED\u001b[0m\u001b[32m                            [ 66%]\u001b[0m\n",
      "t_d62a9d0a029c405fa17ce3dd71577390.py::test_something[4-2] \u001b[32mPASSED\u001b[0m\u001b[32m                            [ 77%]\u001b[0m\n",
      "t_d62a9d0a029c405fa17ce3dd71577390.py::test_something[6-2] \u001b[32mPASSED\u001b[0m\u001b[32m                            [ 88%]\u001b[0m\n",
      "t_d62a9d0a029c405fa17ce3dd71577390.py::test_something[5-2] \u001b[32mPASSED\u001b[0m\u001b[32m                            [100%]\u001b[0m\n",
      "\n",
      "\u001b[32m======================================== \u001b[32m\u001b[1m9 passed\u001b[0m\u001b[32m in 0.04s\u001b[0m\u001b[32m =========================================\u001b[0m\n"
     ]
    }
   ],
   "source": [
    "%%ipytest -vv\n",
    "\n",
    "import pytest\n",
    "\n",
    "\n",
    "@pytest.mark.parametrize(\"a\", [1, 2, 3])\n",
    "@pytest.mark.parametrize(\"b\", [4, 5, 6])\n",
    "def test_something(a, b):\n",
    "    assert a * b != 0"
   ]
  }
 ],
 "metadata": {
  "kernelspec": {
   "display_name": "scratchpad-uyv5OavX-py3.12",
   "language": "python",
   "name": "python3"
  },
  "language_info": {
   "codemirror_mode": {
    "name": "ipython",
    "version": 3
   },
   "file_extension": ".py",
   "mimetype": "text/x-python",
   "name": "python",
   "nbconvert_exporter": "python",
   "pygments_lexer": "ipython3",
   "version": "3.12.1"
  }
 },
 "nbformat": 4,
 "nbformat_minor": 2
}
