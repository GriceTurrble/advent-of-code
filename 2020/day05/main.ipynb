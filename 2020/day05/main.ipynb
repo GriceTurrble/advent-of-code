{
 "metadata": {
  "language_info": {
   "codemirror_mode": {
    "name": "ipython",
    "version": 3
   },
   "file_extension": ".py",
   "mimetype": "text/x-python",
   "name": "python",
   "nbconvert_exporter": "python",
   "pygments_lexer": "ipython3",
   "version": "3.9.0-final"
  },
  "orig_nbformat": 2,
  "kernelspec": {
   "name": "python3",
   "display_name": "Python 3"
  }
 },
 "nbformat": 4,
 "nbformat_minor": 2,
 "cells": [
  {
   "source": [
    "# Day 5: Binary Boarding\n",
    "\n",
    "https://adventofcode.com/2020/day/5\n",
    "\n",
    "## Part 1"
   ],
   "cell_type": "markdown",
   "metadata": {}
  },
  {
   "cell_type": "code",
   "execution_count": 2,
   "metadata": {},
   "outputs": [
    {
     "output_type": "stream",
     "name": "stdout",
     "text": [
      "Highest row string: BBFBBFF\nHighest seat in that row: BBFBBFFRRR\n  ID of that seat: 871\n871\n"
     ]
    }
   ],
   "source": [
    "from pathlib import Path\n",
    "from typing import Tuple\n",
    "\n",
    "INPUTS = Path('input.txt').resolve().read_text().strip()\n",
    "\n",
    "\n",
    "class CodedSeat:\n",
    "\n",
    "    ROW_LOWER_CHAR = \"F\"\n",
    "    ROW_UPPER_CHAR = \"B\"\n",
    "    COL_LOWER_CHAR = \"L\"\n",
    "    COL_UPPER_CHAR = \"R\"\n",
    "\n",
    "    def __init__(self, code):\n",
    "        self.code = code\n",
    "    \n",
    "    def __str__(self):\n",
    "        return self.code\n",
    "    \n",
    "    @property\n",
    "    def row_str(self):\n",
    "        return self.code[:-3]\n",
    "    \n",
    "    @property\n",
    "    def col_str(self):\n",
    "        return self.code[-3:]\n",
    "    \n",
    "    @staticmethod\n",
    "    def get_binary_num(value: str, lower_char:str, upper_char:str) -> int:\n",
    "        \"\"\"Convert a coded string to its number equivalent.\"\"\"\n",
    "        value = value.upper()\n",
    "        if value.replace(lower_char, '').replace(upper_char, ''):\n",
    "            # Invalid characters in this string\n",
    "            raise ValueError(\"Invalid characters found, should only be %s and %s!\" % (lower_char, upper_char))\n",
    "        lower_bound = 0\n",
    "        upper_bound = (2 ** len(value)) - 1  # 127 for 7 characters\n",
    "        for char in value:\n",
    "            diff = (upper_bound + 1 - lower_bound) // 2\n",
    "            if char == lower_char:\n",
    "                # Lower half: decrease the upper bound\n",
    "                upper_bound -= diff\n",
    "            else:\n",
    "                # Upper half: increase the lower bound\n",
    "                lower_bound += diff\n",
    "        # The two bounds at this point should be identical, so return one of them\n",
    "        return lower_bound\n",
    "    \n",
    "    @property\n",
    "    def row_num(self):\n",
    "        return self.get_binary_num(self.row_str, self.ROW_LOWER_CHAR, self.ROW_UPPER_CHAR)\n",
    "    \n",
    "    @property\n",
    "    def col_num(self):\n",
    "        return self.get_binary_num(self.col_str, self.COL_LOWER_CHAR, self.COL_UPPER_CHAR)\n",
    "    \n",
    "    @property\n",
    "    def seat_id(self):\n",
    "        return (self.row_num * 8) + self.col_num\n",
    "\n",
    "# Our sanity check asks us to get the highest seat ID of the bunch.\n",
    "# According to the algorithm, 'B' amounts to a higher-order row,\n",
    "# while 'F' amounts to a lower-order row.\n",
    "# That means if we simply perform a sort on the list of seats,\n",
    "# naturally the first few will be in the highest rows in the plane.\n",
    "\n",
    "# It will not naturally sort the columns, as 'R' is the upper half\n",
    "# while 'L' is the lower. In fact, that will give us the lowest ID\n",
    "# within the highest row of the plane, alongside others that are also\n",
    "# in that row.\n",
    "\n",
    "# So, first, let's find the identity of that highest row,\n",
    "# cutting off the col numbers:\n",
    "\n",
    "seats = INPUTS.split()\n",
    "\n",
    "highest_row = sorted(seats)[0][:-3]\n",
    "print(f\"Highest row string: {highest_row}\")\n",
    "\n",
    "# We can then pull out all the seats that start with this row identifier:\n",
    "\n",
    "highest_row_seats = [x for x in seats if x.startswith(highest_row)]\n",
    "\n",
    "# Then if we reverse-sort this list and take the first one, we have our highest seat:\n",
    "\n",
    "highest_seat = CodedSeat(sorted(highest_row_seats, reverse=True)[0])\n",
    "print(f\"Highest seat in that row: {highest_seat}\")\n",
    "print(f\"  ID of that seat: {highest_seat.seat_id}\")\n",
    "\n",
    "# I constructed the CodedSeat class after passing the sanity check using pure functions,\n",
    "# then refactored to include it.\n",
    "# With the class in hand, another way to solve this is simply to generate IDs for every seat,\n",
    "# then sort and pull out the highest one:\n",
    "\n",
    "all_seats = [CodedSeat(x) for x in seats]\n",
    "highest_seat_id = sorted([x.seat_id for x in all_seats], reverse=True)[0]\n",
    "print(highest_seat_id)\n"
   ]
  },
  {
   "source": [
    "## Part 2"
   ],
   "cell_type": "markdown",
   "metadata": {}
  },
  {
   "cell_type": "code",
   "execution_count": 4,
   "metadata": {},
   "outputs": [
    {
     "output_type": "stream",
     "name": "stdout",
     "text": [
      "Our seat is #640.\n"
     ]
    }
   ],
   "source": [
    "# Using the highest seat ID on the plane, we know an upper limit for all the seats,\n",
    "# so building a mapping of all possible seats is trivial.\n",
    "mapped_seats = {x: False for x in range(highest_seat_id + 1)}\n",
    "\n",
    "# We can then map all seats from our input to its ID key in mapped_seats.\n",
    "# We just need to know the seat is filled, so we'll flip the flag in that\n",
    "# location to True.\n",
    "for seat in all_seats:\n",
    "    mapped_seats[seat.seat_id] = True\n",
    "\n",
    "# With all filled seats mapped out, we can filter to find the remaining missing ones:\n",
    "missing_seats = [k for k, v in mapped_seats.items() if v is False]\n",
    "\n",
    "# Now, according to the rules, our seat is not necessarily in the first seat that equates to False.\n",
    "# We must find a missing seat `n` (one of those identified in `missing_seats`) where\n",
    "# both `n+1` and `n-1` in `mapped_seats` are True.\n",
    "\n",
    "for missing_id in missing_seats:\n",
    "    if (missing_id - 1) not in mapped_seats or (missing_id + 1) not in mapped_seats:\n",
    "        # There are no seats surrounding this one,\n",
    "        # so it's at the top or bottom of the plane,\n",
    "        # and thus not our real seat\n",
    "        continue\n",
    "    if not mapped_seats[missing_id-1] or not mapped_seats[missing_id+1]:\n",
    "        # The nearby seats are also \"empty\", meaning they probably don't exist.\n",
    "        continue\n",
    "    # passing those two conditions, the missing seat ID we found is the only one remaining.\n",
    "    our_seat = missing_id\n",
    "    # We might missing seats at the back of the plane, as well, but we can be sure that\n",
    "    # those seats will fail the prior conditions. Therefore, we can exit early.\n",
    "    break\n",
    "\n",
    "# And here's our result.\n",
    "print(f\"Our seat is #{our_seat}.\")"
   ]
  }
 ]
}