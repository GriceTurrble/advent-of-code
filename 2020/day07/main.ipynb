{
 "metadata": {
  "language_info": {
   "codemirror_mode": {
    "name": "ipython",
    "version": 3
   },
   "file_extension": ".py",
   "mimetype": "text/x-python",
   "name": "python",
   "nbconvert_exporter": "python",
   "pygments_lexer": "ipython3",
   "version": "3.9.0-final"
  },
  "orig_nbformat": 2,
  "kernelspec": {
   "name": "python3",
   "display_name": "Python 3",
   "language": "python"
  }
 },
 "nbformat": 4,
 "nbformat_minor": 2,
 "cells": [
  {
   "source": [
    "# Day 7: Handy Haversacks\n",
    "\n",
    "https://adventofcode.com/2020/day/7\n",
    "\n",
    "## Part 1"
   ],
   "cell_type": "markdown",
   "metadata": {}
  },
  {
   "cell_type": "code",
   "execution_count": 7,
   "metadata": {},
   "outputs": [],
   "source": [
    "# dull bronze bags contain 2 striped indigo bags, 4 plaid black bags, 3 clear violet bags, 1 dull chartreuse bag.\n",
    "\n",
    "import re\n",
    "\n",
    "# TODO need a method for matching a content type to the main BagRule?\n",
    "\n",
    "class BagContent:\n",
    "    contents_pattern = re.compile(r\"(?P<count>\\d+)\\s(?P<type>.*?)\\sbags?\\.?\")\n",
    "    no_contents_str = \"no other bags.\"\n",
    "\n",
    "    def __init__(self, content):\n",
    "        self._content = content.strip()\n",
    "        self.empty = False\n",
    "        self.count = 0\n",
    "        self.bag_type = None\n",
    "        if self._content == self.no_contents_str:\n",
    "            self.empty = True\n",
    "        else:\n",
    "            match = self.contents_pattern.match(self._content)\n",
    "            if not match:\n",
    "                raise ValueError(\"Bad match for content %s\" % content)\n",
    "            data = match.groupdict()\n",
    "            self.count = int(data['count'])\n",
    "            self.bag_type = data['type']\n",
    "    \n",
    "    def __str__(self) -> str:\n",
    "        if self.empty:\n",
    "            return \"--No contents--\"\n",
    "        plural = \"\" if self.count == 1 else \"s\"\n",
    "        return f\"{self.count} bag{plural} of type `{self.bag_type}`\"\n",
    "\n",
    "class BagRule:\n",
    "    def __init__(self, rule):\n",
    "        self._full_line = rule\n",
    "        self.bag_type, self.rule = (x.strip() for x in self._full_line.split('bags contain'))\n",
    "        self.contents = [BagContent(x) for x in self.rule.split(',')]\n",
    "        self.bag_types_can_contain = [x.bag_type for x in self.contents if not x.empty]"
   ]
  },
  {
   "cell_type": "code",
   "execution_count": 8,
   "metadata": {},
   "outputs": [
    {
     "output_type": "stream",
     "name": "stdout",
     "text": [
      "Type: dull bronze\nMay contain:\n  2 bags of type `striped indigo`\n  4 bags of type `plaid black`\n  3 bags of type `clear violet`\n  1 bag of type `dull chartreuse`\n"
     ]
    }
   ],
   "source": [
    "# Sanity tests for the classes\n",
    "\n",
    "example = \"dull bronze bags contain 2 striped indigo bags, 4 plaid black bags, 3 clear violet bags, 1 dull chartreuse bag.\"\n",
    "thing = BagRule(example)\n",
    "print(f\"Type: {thing.bag_type}\")\n",
    "print(\"May contain:\")\n",
    "for content in thing.contents:\n",
    "    print(f\"  {content}\")\n",
    "\n",
    "# If output looks good, let's proceed."
   ]
  },
  {
   "cell_type": "code",
   "execution_count": 19,
   "metadata": {
    "tags": []
   },
   "outputs": [
    {
     "output_type": "stream",
     "name": "stdout",
     "text": [
      "Shiny gold bags can be eventually be contained in one of 246 bag types.\n"
     ]
    }
   ],
   "source": [
    "from pathlib import Path\n",
    "\n",
    "INPUTS = Path('input.txt').resolve().read_text().strip()\n",
    "RULES = [BagRule(x) for x in INPUTS.split('\\n')]\n",
    "TARGET = 'shiny gold'\n",
    "\n",
    "# We'll figure out the potential containers of one bag by recursively finding bags\n",
    "# that are able to contain each type. In each recursion, a list is returned\n",
    "# and appended (via `.extend`) to the existing set of containers.\n",
    "# The base case for an empty container returns the empty list, `[]`.\n",
    "# Finally, the list is run through `set` to remove dupes, then returned again\n",
    "# as a list.\n",
    "def get_containers(bag_type):\n",
    "    containers = [x.bag_type for x in RULES if bag_type in x.bag_types_can_contain]\n",
    "    if not containers:\n",
    "        return []\n",
    "    final_containers = containers[:]\n",
    "    for container in containers:\n",
    "        final_containers.extend(get_containers(container))\n",
    "    return list(set(final_containers))\n",
    "\n",
    "# This allows us to pick out all containers of our target, the shiny gold bag.\n",
    "shiny_gold_containers = get_containers(TARGET)\n",
    "\n",
    "# And the length of that returned list is our answer:\n",
    "print(f\"Shiny gold bags can be eventually be contained in one of {len(shiny_gold_containers)} bag types.\")"
   ]
  },
  {
   "source": [
    "## Part 2"
   ],
   "cell_type": "markdown",
   "metadata": {}
  },
  {
   "cell_type": "code",
   "execution_count": 30,
   "metadata": {},
   "outputs": [
    {
     "output_type": "stream",
     "name": "stdout",
     "text": [
      "Sanity check: Are all rules unique for containing bag type? -- True\n\n'shiny gold' bags must contain 2976 individual bags.\nThat's a lot of bags. I better pick different luggage next time.\n"
     ]
    }
   ],
   "source": [
    "# For this one, we can again solve by recursion, but in the opposite direction.\n",
    "# The class I wrote for Part 1 can probably remain unchanged. This time, though,\n",
    "# I need to compile the number of bags being held, \n",
    "\n",
    "# First I did a sanity check, ensuring all the rules are unique:\n",
    "sanity_check = len(set([x.bag_type for x in RULES])) == len(RULES)\n",
    "print(f\"Sanity check: Are all rules unique for containing bag type? -- {sanity_check}\\n\")\n",
    "\n",
    "# That being settled, we can be certain that when we look for a bag_type in the rules,\n",
    "# we'll only find one target rule. Thus, the [0] index below.\n",
    "def get_num_bag_contents(bag_type):\n",
    "    target_rule = [x for x in RULES if x.bag_type == bag_type][0]\n",
    "    # With the rule in hand, we can iterate through the contents and\n",
    "    # recursively pick out bag counts for each of those.\n",
    "    total_count = 0\n",
    "    for bag in target_rule.contents:\n",
    "        if bag.empty:\n",
    "            continue\n",
    "        # For a non-empty bag, add the count of those contained bags\n",
    "        # AND the number of bags that bag may contain MULTIPLIED by\n",
    "        # how many bags there are.\n",
    "        # So if this bag can contain 2 of a bag type that is found to individually\n",
    "        # contain 5 other bags, that's (2 + (5 * 2)) = 12\n",
    "        total_count += bag.count + (get_num_bag_contents(bag.bag_type) * bag.count)\n",
    "    return total_count\n",
    "\n",
    "contents = get_num_bag_contents(TARGET)\n",
    "print(f\"'{TARGET}' bags must contain {contents} individual bags.\")\n",
    "print(\"That's a lot of bags. I better pick different luggage next time.\")"
   ]
  }
 ]
}
