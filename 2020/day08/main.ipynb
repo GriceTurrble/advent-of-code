{
 "metadata": {
  "language_info": {
   "codemirror_mode": {
    "name": "ipython",
    "version": 3
   },
   "file_extension": ".py",
   "mimetype": "text/x-python",
   "name": "python",
   "nbconvert_exporter": "python",
   "pygments_lexer": "ipython3",
   "version": "3.9.0-final"
  },
  "orig_nbformat": 2,
  "kernelspec": {
   "name": "python3",
   "display_name": "Python 3",
   "language": "python"
  }
 },
 "nbformat": 4,
 "nbformat_minor": 2,
 "cells": [
  {
   "source": [
    "# Day 8: Handheld Halting\n",
    "\n",
    "https://adventofcode.com/2020/day/8\n",
    "\n",
    "## Part 1"
   ],
   "cell_type": "markdown",
   "metadata": {}
  },
  {
   "source": [
    "### Op details (note to self)\n",
    "\n",
    "- `acc` increases or decreases a single global value called the accumulator by the value given in the argument. For example, `acc +7` would increase the accumulator by 7. The accumulator starts at 0. After an acc instruction, the instruction immediately below it is executed next.\n",
    "- `jmp` jumps to a new instruction relative to itself. The next instruction to execute is found using the argument as an offset from the jmp instruction; for example, `jmp +2` would skip the next instruction, `jmp +1` would continue to the instruction immediately below it, and `jmp -20` would cause the instruction 20 lines above to be executed next.\n",
    "- `nop` stands for **N**o **OP**eration - it does nothing. The instruction immediately below it is executed next."
   ],
   "cell_type": "markdown",
   "metadata": {}
  },
  {
   "cell_type": "code",
   "execution_count": 22,
   "metadata": {},
   "outputs": [],
   "source": [
    "# Grab our data\n",
    "from pathlib import Path\n",
    "\n",
    "INPUTS = Path('input.txt').resolve().read_text().strip()\n",
    "\n",
    "instructions = [x.strip() for x in INPUTS.split('\\n')]"
   ]
  },
  {
   "source": [
    "### Details\n",
    "\n",
    "So, we need to run consecutively through the commands, starting with `acc = 0`, and determine:\n",
    "\n",
    "1. the point at which any command is re-run; and\n",
    "2. what the value of `acc` is prior to that execution.\n",
    "\n",
    "Simple enough. We need to keep a running set of command lines that have been executed from the set of instructions, then continuously check if the current command index exists in that set. Meanwhile, we take the appropriate operation given the current command line instruction."
   ],
   "cell_type": "markdown",
   "metadata": {}
  },
  {
   "cell_type": "code",
   "execution_count": 25,
   "metadata": {},
   "outputs": [
    {
     "output_type": "stream",
     "name": "stdout",
     "text": [
      "Value of acc at the loop point: 2051\n"
     ]
    }
   ],
   "source": [
    "\n",
    "def check_instructions(lines):\n",
    "    curr = 0\n",
    "    accum = 0\n",
    "    seen = {curr}\n",
    "    valid = True\n",
    "    while True:\n",
    "        accum_delta = 0\n",
    "        try:\n",
    "            line = lines[curr]\n",
    "        except IndexError:\n",
    "            # We hit the end?\n",
    "            break\n",
    "        op, arg = line.split()\n",
    "\n",
    "        if op == 'nop':\n",
    "            delta = 1\n",
    "        elif op == 'acc':\n",
    "            delta = 1\n",
    "            accum_delta = int(arg)\n",
    "        elif op == 'jmp':\n",
    "            delta = int(arg)\n",
    "\n",
    "        if (curr + delta) in seen:\n",
    "            valid = False\n",
    "            break\n",
    "        accum += accum_delta\n",
    "        curr += delta\n",
    "        seen.add(curr)\n",
    "    return accum, valid\n",
    "\n",
    "accumulator, _ = check_instructions(instructions)\n",
    "\n",
    "print(f\"Value of acc at the loop point: {accumulator}\")"
   ]
  },
  {
   "source": [
    "## Part 2\n",
    "\n",
    "Similar to the first part, but this time need to determine what one instruction - either a `jmp` or `nop` - has to be swapped in order to generate a solution.\n",
    "\n",
    "I'll admit, I got stumped by this for a bit, then looked around for similar solutions made by others. Where it seems I got stuck was by initially assuming that the one instruction causing the loop in Part 1 was the same instruction that had to be swapped; but that's not necessarily true.\n",
    "\n",
    "Instead, we need to go through the code lines and swap `jmp`s to `nop`s and vice versa to test which set of full code lines can actually generate a good solution."
   ],
   "cell_type": "markdown",
   "metadata": {}
  },
  {
   "cell_type": "code",
   "execution_count": 28,
   "metadata": {},
   "outputs": [
    {
     "output_type": "stream",
     "name": "stdout",
     "text": [
      "Valid accumulator is 2304, with a swapped instruction at line 322\n"
     ]
    }
   ],
   "source": [
    "\n",
    "for idx, line in enumerate(instructions):\n",
    "    test_instructions = instructions[:]\n",
    "    op, arg = line.split()\n",
    "\n",
    "    # Do the op swap (doo, doo doo duh-doo duh-doo doo DOO!)\n",
    "    if op == 'jmp':\n",
    "        op = 'nop'\n",
    "    elif op == 'nop':\n",
    "        op = 'jmp'\n",
    "    \n",
    "    new_line = f\"{op} {arg}\"\n",
    "    test_instructions[idx] = new_line\n",
    "\n",
    "    accum, valid = check_instructions(test_instructions)\n",
    "    if valid:\n",
    "        break\n",
    "\n",
    "print(f\"Valid accumulator is {accum}, with a swapped instruction at line {idx+1}\")"
   ]
  },
  {
   "cell_type": "code",
   "execution_count": null,
   "metadata": {},
   "outputs": [],
   "source": []
  }
 ]
}