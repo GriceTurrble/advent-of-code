{
 "metadata": {
  "language_info": {
   "codemirror_mode": {
    "name": "ipython",
    "version": 3
   },
   "file_extension": ".py",
   "mimetype": "text/x-python",
   "name": "python",
   "nbconvert_exporter": "python",
   "pygments_lexer": "ipython3",
   "version": "3.9.0-final"
  },
  "orig_nbformat": 2,
  "kernelspec": {
   "name": "python3",
   "display_name": "Python 3"
  }
 },
 "nbformat": 4,
 "nbformat_minor": 2,
 "cells": [
  {
   "source": [
    "# Day 4: Passport Processing\n",
    "\n",
    "https://adventofcode.com/2020/day/4\n",
    "\n",
    "## Part 1"
   ],
   "cell_type": "markdown",
   "metadata": {}
  },
  {
   "cell_type": "code",
   "execution_count": 44,
   "metadata": {
    "tags": []
   },
   "outputs": [
    {
     "output_type": "stream",
     "name": "stdout",
     "text": [
      "256 valid passports\n"
     ]
    }
   ],
   "source": [
    "from pathlib import Path\n",
    "\n",
    "INPUTS = Path('input.txt').resolve().read_text().strip()\n",
    "# Because the inputs are separated by a blank line, we can reliably\n",
    "# split the passport chunks by the double newline '\\n\\n'.\n",
    "INPUTS = INPUTS.split('\\n\\n')\n",
    "# The results will all contain newline characters in the middle of their contents,\n",
    "# so we just replace those with spaces to clean them up.\n",
    "INPUTS = [x.replace('\\n', ' ') for x in INPUTS]\n",
    "\n",
    "# Lay out the required fields here\n",
    "REQUIRED_FIELDS = ('byr', 'iyr', 'eyr', 'hgt', 'hcl', 'ecl', 'pid')\n",
    "\n",
    "num_valid = 0\n",
    "for passport in INPUTS:\n",
    "    # Begin by splitting the content, which by default is on spaces.\n",
    "    content = passport.split()\n",
    "\n",
    "    # As each of the keys are exactly 3 characters long, and every\n",
    "    # entry takes the same format, we can just chop off the data\n",
    "    # with a simple slice. Additionally, we don't really need the 'cid'\n",
    "    # key, as that's optional; so we'll conditionally exclude it.\n",
    "    content = [x[:3] for x in content if x[:3] != 'cid']\n",
    "\n",
    "    # Now that we have a list of the keys excluding the optional 'cid',\n",
    "    # turns out we don't really need to check that they match.\n",
    "    # Also, we can guess they're unique for each entry.\n",
    "\n",
    "    # So, all that's really needed is to check that we have as many keys\n",
    "    # as our list of required keys:\n",
    "    if len(content) == len(REQUIRED_FIELDS):\n",
    "        num_valid += 1\n",
    "\n",
    "# And that dumb little check produces our correct output\n",
    "print(f\"{num_valid} valid passports\")\n"
   ]
  },
  {
   "source": [
    "## Part 2"
   ],
   "cell_type": "markdown",
   "metadata": {}
  },
  {
   "cell_type": "code",
   "execution_count": 49,
   "metadata": {},
   "outputs": [
    {
     "output_type": "stream",
     "name": "stdout",
     "text": [
      "198 valid passports.\n"
     ]
    }
   ],
   "source": [
    "# Now things get more complicated. Time for real data validation.\n",
    "# Let's set up a validator to help us out:\n",
    "\n",
    "import re\n",
    "\n",
    "hcl_pattern = re.compile(r\"^#[0-9a-f]{6}$\")\n",
    "pid_pattern = re.compile(r\"^\\d{9}$\")\n",
    "hgt_pattern = re.compile(r\"^(?P<measure>\\d{2,3})(?P<unit>in|cm)$\")\n",
    "\n",
    "def is_valid(entry: dict) -> bool:\n",
    "    \n",
    "    def has_required_fields() -> bool:\n",
    "        nonlocal entry\n",
    "        fields = [k for k in entry.keys() if k != 'cid']\n",
    "        return len(fields) == len(REQUIRED_FIELDS)\n",
    "    \n",
    "    if not has_required_fields():\n",
    "        return False\n",
    "    \n",
    "    # That being covered, create validators for each of the parts of the passport:\n",
    "\n",
    "    def is_valid_byr(entry) -> bool:\n",
    "        return 1920 <= int(entry['byr']) <= 2002\n",
    "\n",
    "    def is_valid_iyr(entry) -> bool:\n",
    "        return 2010 <= int(entry['iyr']) <= 2020\n",
    "\n",
    "    def is_valid_eyr(entry) -> bool:\n",
    "        return 2020 <= int(entry['eyr']) <= 2030\n",
    "\n",
    "    def is_valid_hgt(entry) -> bool:\n",
    "        match = hgt_pattern.match(entry['hgt'])\n",
    "        if not match:\n",
    "            return False\n",
    "        match_dict = match.groupdict()\n",
    "        measure = int(match_dict['measure'])\n",
    "        if match_dict['unit'] == 'cm':\n",
    "            return 150 <= measure <= 193\n",
    "        return 59 <= measure <= 76\n",
    "\n",
    "    def is_valid_hcl(entry) -> bool:\n",
    "        return bool(hcl_pattern.match(entry['hcl']))\n",
    "\n",
    "    def is_valid_ecl(entry) -> bool:\n",
    "        accepted = ('amb', 'blu', 'brn', 'gry', 'grn', 'hzl', 'oth')\n",
    "        return entry['ecl'] in accepted\n",
    "\n",
    "    def is_valid_pid(entry) -> bool:\n",
    "        return bool(pid_pattern.match(entry['pid']))\n",
    "    \n",
    "    # Now run then and return all() for the checks\n",
    "    return all([\n",
    "        is_valid_byr(entry),\n",
    "        is_valid_iyr(entry),\n",
    "        is_valid_eyr(entry),\n",
    "        is_valid_hgt(entry),\n",
    "        is_valid_hcl(entry),\n",
    "        is_valid_ecl(entry),\n",
    "        is_valid_pid(entry),\n",
    "    ])\n",
    "\n",
    "# Now a converter to turn our original passports into dicts we can actually use\n",
    "# (doing the work we skipped last time)\n",
    "def passport_to_dict(passport: str) -> dict:\n",
    "    output = {}\n",
    "    for part in passport.split():\n",
    "        key, val = part.split(':')\n",
    "        output[key] = val\n",
    "    return output\n",
    "\n",
    "\n",
    "# Now we can do the work:\n",
    "valid_count = 0\n",
    "for passport in INPUTS:\n",
    "    passport_dict = passport_to_dict(passport)\n",
    "    if is_valid(passport_dict):\n",
    "        valid_count += 1\n",
    "\n",
    "print(f\"{valid_count} valid passports.\")"
   ]
  },
  {
   "cell_type": "code",
   "execution_count": null,
   "metadata": {},
   "outputs": [],
   "source": []
  }
 ]
}
