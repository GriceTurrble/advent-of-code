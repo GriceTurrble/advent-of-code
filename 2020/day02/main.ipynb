{
 "cells": [
  {
   "cell_type": "markdown",
   "metadata": {},
   "source": [
    "# Day 2: Password Philosophy\n",
    "\n",
    "https://adventofcode.com/2020/day/2\n",
    "\n",
    "## Part 1"
   ]
  },
  {
   "cell_type": "code",
   "execution_count": 4,
   "metadata": {
    "tags": []
   },
   "outputs": [
    {
     "name": "stdout",
     "output_type": "stream",
     "text": [
      "546 valid passwords found.\n"
     ]
    }
   ],
   "source": [
    "from pathlib import Path\n",
    "import re\n",
    "\n",
    "INPUTS = Path(\"input.txt\").resolve().read_text().strip().split(\"\\n\")\n",
    "\n",
    "# Pattern match lines of the input\n",
    "pattern = re.compile(\n",
    "    r\"(?P<min>\\d+)-(?P<max>\\d+)\\s(?P<target>[a-z]):\\s(?P<password>[a-z]+)\"\n",
    ")\n",
    "# Pull those matches out\n",
    "matches = [\n",
    "    {\n",
    "        # Convert the min and max keys to int here, just to make things easier.\n",
    "        k: int(v) if k in (\"min\", \"max\") else v\n",
    "        for k, v in pattern.match(x).groupdict().items()\n",
    "    }\n",
    "    for x in INPUTS\n",
    "]\n",
    "\n",
    "# Start a counter\n",
    "count_valid = 0\n",
    "\n",
    "for match in matches:\n",
    "    # Find number of occurrences of the target character in the password\n",
    "    target_occurrences = len([c for c in match[\"password\"] if c == match[\"target\"]])\n",
    "    # Test if that target occurrence falls within the accepted range\n",
    "    if match[\"min\"] <= target_occurrences <= match[\"max\"]:\n",
    "        count_valid += 1\n",
    "\n",
    "print(f\"{count_valid} valid passwords found.\")"
   ]
  },
  {
   "cell_type": "markdown",
   "metadata": {},
   "source": [
    "## Part 2"
   ]
  },
  {
   "cell_type": "code",
   "execution_count": 5,
   "metadata": {},
   "outputs": [
    {
     "name": "stdout",
     "output_type": "stream",
     "text": [
      "275 valid passwords found.\n"
     ]
    }
   ],
   "source": [
    "# We can use all the same contents, but now they mean different things\n",
    "\n",
    "new_count_valid = 0\n",
    "for match in matches:\n",
    "    # Positions in the input are 1-indexed.\n",
    "    # Convert these down to 0-index for brevity\n",
    "    pos1 = match[\"min\"] - 1\n",
    "    pos2 = match[\"max\"] - 1\n",
    "    target = match[\"target\"]\n",
    "    password = match[\"password\"]\n",
    "    if (password[pos1] == target and password[pos2] != target) or (\n",
    "        password[pos1] != target and password[pos2] == target\n",
    "    ):\n",
    "        new_count_valid += 1\n",
    "\n",
    "print(f\"{new_count_valid} valid passwords found.\")"
   ]
  }
 ],
 "metadata": {
  "kernelspec": {
   "display_name": "Python 3",
   "name": "python3"
  },
  "language_info": {
   "codemirror_mode": {
    "name": "ipython",
    "version": 3
   },
   "file_extension": ".py",
   "mimetype": "text/x-python",
   "name": "python",
   "nbconvert_exporter": "python",
   "pygments_lexer": "ipython3",
   "version": "3.9.0-final"
  },
  "orig_nbformat": 2
 },
 "nbformat": 4,
 "nbformat_minor": 2
}
