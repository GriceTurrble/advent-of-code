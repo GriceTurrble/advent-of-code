{
 "cells": [
  {
   "cell_type": "markdown",
   "metadata": {},
   "source": [
    "# Day 1 - Report Repair\n",
    "\n",
    "https://adventofcode.com/2020/day/1\n",
    "\n",
    "## Part 1"
   ]
  },
  {
   "cell_type": "code",
   "execution_count": 21,
   "metadata": {},
   "outputs": [
    {
     "name": "stdout",
     "output_type": "stream",
     "text": [
      "Numbers: 403 + 1617 == 2020\nProduct: 651651\n"
     ]
    }
   ],
   "source": [
    "from pathlib import Path\n",
    "\n",
    "INPUTS = Path(\"input.txt\").resolve().read_text().strip().split(\"\\n\")\n",
    "INPUTS = sorted([int(x) for x in INPUTS])\n",
    "\n",
    "\n",
    "def find_it():\n",
    "    # Given the above inputs, which is a list of numbers,\n",
    "    # Find the two entries that sum to 2020\n",
    "    for idx, first in enumerate(INPUTS):\n",
    "        for second in INPUTS[idx:]:\n",
    "            if (first + second) == 2020:\n",
    "                return first, second\n",
    "\n",
    "\n",
    "first, second = find_it()\n",
    "print(f\"Numbers: {first} + {second} == 2020\")\n",
    "# With those two numbers in hand, find the product of those two:\n",
    "print(f\"Product: {first * second}\")"
   ]
  },
  {
   "cell_type": "markdown",
   "metadata": {},
   "source": [
    "## Part 2"
   ]
  },
  {
   "cell_type": "code",
   "execution_count": 22,
   "metadata": {},
   "outputs": [
    {
     "name": "stdout",
     "output_type": "stream",
     "text": [
      "Numbers: 372 + 504 + 1144 == 2020\nProduct: 214486272\n"
     ]
    }
   ],
   "source": [
    "# Now with the same set of inputs, find the THREE numbers that sum to 2020\n",
    "\n",
    "\n",
    "def find_it_again():\n",
    "    # Given the above inputs, which is a list of numbers,\n",
    "    # Find the THREE entries that sum to 2020\n",
    "    for idx, first in enumerate(INPUTS):\n",
    "        for idj, second in enumerate(INPUTS[idx:], start=idx):\n",
    "            for third in INPUTS[idj:]:\n",
    "                if (first + second + third) == 2020:\n",
    "                    return first, second, third\n",
    "\n",
    "\n",
    "first, second, third = find_it_again()\n",
    "print(f\"Numbers: {first} + {second} + {third} == 2020\")\n",
    "# With those three numbers in hand, find the product of them all:\n",
    "print(f\"Product: {first * second * third}\")"
   ]
  }
 ],
 "metadata": {
  "kernelspec": {
   "display_name": "Python 3",
   "name": "python3"
  },
  "language_info": {
   "codemirror_mode": {
    "name": "ipython",
    "version": 3
   },
   "file_extension": ".py",
   "mimetype": "text/x-python",
   "name": "python",
   "nbconvert_exporter": "python",
   "pygments_lexer": "ipython3",
   "version": "3.9.0-final"
  },
  "orig_nbformat": 2
 },
 "nbformat": 4,
 "nbformat_minor": 2
}
