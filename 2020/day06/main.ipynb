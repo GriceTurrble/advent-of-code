{
 "metadata": {
  "language_info": {
   "codemirror_mode": {
    "name": "ipython",
    "version": 3
   },
   "file_extension": ".py",
   "mimetype": "text/x-python",
   "name": "python",
   "nbconvert_exporter": "python",
   "pygments_lexer": "ipython3",
   "version": "3.9.0-final"
  },
  "orig_nbformat": 2,
  "kernelspec": {
   "name": "python3",
   "display_name": "Python 3"
  }
 },
 "nbformat": 4,
 "nbformat_minor": 2,
 "cells": [
  {
   "source": [
    "# Day 6: Custom Customs\n",
    "\n",
    "https://adventofcode.com/2020/day/6\n",
    "\n",
    "## Part 1"
   ],
   "cell_type": "markdown",
   "metadata": {}
  },
  {
   "cell_type": "code",
   "execution_count": 30,
   "metadata": {},
   "outputs": [],
   "source": [
    "# To process the inputs, I'll choose to encapsulate them in a class\n",
    "# where all the hard logic takes place.\n",
    "class CustomsAnswer:\n",
    "    def __init__(self, data):\n",
    "        # For Part 1 initially, I did a replacement of the newline character here\n",
    "        # to produce clean output.\n",
    "        # Once Part 2 opened up, I had to remove that, as it destroyed a necessary\n",
    "        # piece of information. Instead, that newline replacement takes place\n",
    "        # as needed in the other properties.\n",
    "        self.data = data\n",
    "\n",
    "    @property\n",
    "    def count_any(self) -> int:\n",
    "        # Not really necessary for the answers, but trivial to add and use for sanity checks.\n",
    "        return len(self.data.replace('\\n', ''))\n",
    "\n",
    "    @property\n",
    "    def count_unique(self) -> int:\n",
    "        # Main way to solve Part 1.\n",
    "        # Converting to a set gives us a dead-simple way to pull out unique responses.\n",
    "        # We just need to be careful to remove newline characters first, or that will count\n",
    "        # as a \"response\" and throw off our count.\n",
    "        return len(set(self.data.replace('\\n', '')))\n",
    "\n",
    "    @property\n",
    "    def count_all_matching(self) -> int:\n",
    "        # Added per Part 2.\n",
    "        # First we split the data on newline characters to get individual responses for each\n",
    "        responses = self.data.split('\\n')\n",
    "\n",
    "        # Using the same theme as `count_unique`, we can discover unique answers using sets.\n",
    "        # This time, we can perform set unions between the responses to easily pare down\n",
    "        # the set of covered responses to only those found in every response in the group.\n",
    "\n",
    "        # First up, we can't initialize with an empty set, as the union of any set with the empty set\n",
    "        # is always the empty set.\n",
    "        # Instead, we'll give it the first response from the group.\n",
    "        covered_responses = set(responses[0])\n",
    "\n",
    "        # Using a simple for loop would produce that same first response on first iteration,\n",
    "        # so the covered response set will union itself. That's harmless, as it produces\n",
    "        # the same result; but we can slice up the responses anyway to ensure only unique\n",
    "        # responses are checked.\n",
    "        for response in responses[1:]:\n",
    "            covered_responses &= set(response)\n",
    "\n",
    "        # With the set union finished, all we need is its length to know how many\n",
    "        # responses were answered by every member of the group.\n",
    "        return len(covered_responses)"
   ]
  },
  {
   "cell_type": "code",
   "execution_count": 31,
   "metadata": {},
   "outputs": [],
   "source": [
    "from pathlib import Path\n",
    "\n",
    "INPUTS = Path('input.txt').resolve().read_text().strip()\n",
    "\n",
    "# This problem seems like a fairly straightforward question of\n",
    "# grouping answers into a set, removing duplicates, counting unique responses,\n",
    "# and summing the counts of all unique responses.\n",
    "\n",
    "# As each section of answers is separated by blank lines, I'll split them\n",
    "# on the double newline, as in Day 5.\n",
    "content = INPUTS.split('\\n\\n')\n",
    "\n",
    "# Now process all answers through the above class to get our working set of data\n",
    "answers = [CustomsAnswer(x) for x in content]"
   ]
  },
  {
   "cell_type": "code",
   "execution_count": 32,
   "metadata": {},
   "outputs": [
    {
     "output_type": "stream",
     "name": "stdout",
     "text": [
      "6596 total unique group responses.\n"
     ]
    }
   ],
   "source": [
    "# With the class in hand, the answer is trivial:\n",
    "sum_unique = sum([x.count_unique for x in answers])\n",
    "print(f\"{sum_unique} total unique group responses.\")"
   ]
  },
  {
   "source": [
    "## Part 2"
   ],
   "cell_type": "markdown",
   "metadata": {}
  },
  {
   "cell_type": "code",
   "execution_count": 33,
   "metadata": {
    "tags": []
   },
   "outputs": [
    {
     "output_type": "stream",
     "name": "stdout",
     "text": [
      "3219 total responses answered by every member of the group.\n"
     ]
    }
   ],
   "source": [
    "# For this part, I simply added the count_all_matching property onto CustomsAnswer.\n",
    "# With that, the answer to the new question is roughly the same setup:\n",
    "\n",
    "sum_all_covered = sum([x.count_all_matching for x in answers])\n",
    "print(f\"{sum_all_covered} total responses answered by every member of the group.\")"
   ]
  }
 ]
}
