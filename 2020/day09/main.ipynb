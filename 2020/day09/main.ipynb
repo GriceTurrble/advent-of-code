{
 "cells": [
  {
   "cell_type": "markdown",
   "metadata": {},
   "source": [
    "# Day 9: Encoding Error\n",
    "\n",
    "https://adventofcode.com/2020/day/9\n",
    "\n",
    "## Part 1"
   ]
  },
  {
   "cell_type": "code",
   "execution_count": 51,
   "metadata": {},
   "outputs": [],
   "source": [
    "from pathlib import Path\n",
    "\n",
    "INPUTS = [int(x) for x in Path(\"input.txt\").resolve().read_text().strip().split()]"
   ]
  },
  {
   "cell_type": "markdown",
   "metadata": {},
   "source": [
    "Finding the valid number by these rules is mostly trivial:\n",
    "\n",
    "1. Start iterating through inputs beginning from index 25 (equal to the preamble length).\n",
    "2. Grab the chunk of inputs from the prior 25 inputs by slicing up that prior portion of the input list.\n",
    "3. Run a function that determines if that number is valid by that preamble, simply be double-iterating through the set of preamble numbers and testing the addition of one to another."
   ]
  },
  {
   "cell_type": "code",
   "execution_count": 52,
   "metadata": {},
   "outputs": [
    {
     "name": "stdout",
     "output_type": "stream",
     "text": [
      "Invalid number: 138879426\n"
     ]
    }
   ],
   "source": [
    "from typing import List\n",
    "\n",
    "\n",
    "def is_valid(num: int, preamble: List[int]) -> bool:\n",
    "    \"\"\"Returns whether `num` is valid, determined by whether any two numbers\n",
    "    in `preamble` add up to that number.\n",
    "    \"\"\"\n",
    "    for idx, pre1 in enumerate(preamble):\n",
    "        for pre2 in preamble[idx + 1 :]:\n",
    "            if (pre1 + pre2) == num:\n",
    "                return True\n",
    "    return False\n",
    "\n",
    "\n",
    "def find_invalid(numbers, preamble_length=25) -> int:\n",
    "    for idx, num in enumerate(numbers[preamble_length:]):\n",
    "        # We iterate over a slice of the numbers starting from `preamble`'s position.\n",
    "        # When enumerated, `idx` starts at 0, and we can obtain an `end` point\n",
    "        # by adding the `preamble_length` to it. This gives us two useful indices\n",
    "        # with which to again slice `numbers` to obtain the set of preamble numbers\n",
    "        # for our current `num`.\n",
    "        end = idx + preamble_length\n",
    "        preamble = numbers[idx:end]\n",
    "        if not is_valid(num, preamble):\n",
    "            return num\n",
    "\n",
    "\n",
    "invalid_num = find_invalid(INPUTS)\n",
    "print(f\"Invalid number: {invalid_num}\")"
   ]
  },
  {
   "cell_type": "markdown",
   "metadata": {},
   "source": [
    "## Part 2\n",
    "\n",
    "Bit different on this one, needing to find a contiguous set of numbers that add up to the invalid number.\n",
    "\n",
    "I started with an assumption that the numbers generally increased over time, even if they're not perfectly sorted to begin with. Using that, I just kept testing successive sections of the inputs by summing them together.\n",
    "\n",
    "- If the sum ended up too low, I would increase the upper bound and try again.\n",
    "- If the sum was too high, I would increase the lower bound.\n",
    "\n",
    "This eventually finds a section that sums to match `invald_num` perfectly. This then breaks out of the loop, giving us our lower and upper bounds to work with.\n",
    "\n",
    "Finally, it's a simple matter of sorting the numbers from that slice of the inputs and then adding the min and max together (first and last elements of a sorted list)."
   ]
  },
  {
   "cell_type": "code",
   "execution_count": 53,
   "metadata": {},
   "outputs": [
    {
     "name": "stdout",
     "output_type": "stream",
     "text": [
      "Contigious set located:\n-----------------------\n    457:      6291980\n    458:      6237364\n    459:      5984187\n    460:      6615272\n    461:      6156670\n    462:      6315473\n    463:      6409847\n    464:      6542572\n    465:      7144670\n    466:     11945621\n    467:      8593950\n    468:      9606073\n    469:      7454040\n    470:      7950161\n    471:      8471423\n    472:      9382616\n    473:     17777507\n-----------------------\n  Lowest:     5984187\n  Highest:   17777507\n\nEncryption weakness = 23761694\n"
     ]
    }
   ],
   "source": [
    "lower_bound_idx, upper_bound_idx = 0, 0\n",
    "\n",
    "while True:\n",
    "    sliced = INPUTS[lower_bound_idx:upper_bound_idx]\n",
    "    if upper_bound_idx >= len(INPUTS):\n",
    "        print(\"ya goofed\")\n",
    "    try_total = sum(sliced)\n",
    "    if try_total == invalid_num:\n",
    "        break\n",
    "    if try_total > invalid_num:\n",
    "        lower_bound_idx += 1\n",
    "    else:\n",
    "        upper_bound_idx += 1\n",
    "\n",
    "sorted_slice = sorted(sliced)\n",
    "weakness = sorted_slice[0] + sorted_slice[-1]\n",
    "\n",
    "print(\"Contigious set located:\")\n",
    "print(\"-\" * 23)\n",
    "for idx, num in enumerate(sliced, start=lower_bound_idx + 1):\n",
    "    print(f\"    {idx}: {num:>12}\")\n",
    "print(\"-\" * 23)\n",
    "print(f\"  Lowest:  {sorted_slice[0]:>10}\")\n",
    "print(f\"  Highest: {sorted_slice[-1]:>10}\")\n",
    "print(f\"\\nEncryption weakness = {weakness}\")"
   ]
  }
 ],
 "metadata": {
  "kernelspec": {
   "display_name": "Python 3",
   "language": "python",
   "name": "python3"
  },
  "language_info": {
   "codemirror_mode": {
    "name": "ipython",
    "version": 3
   },
   "file_extension": ".py",
   "mimetype": "text/x-python",
   "name": "python",
   "nbconvert_exporter": "python",
   "pygments_lexer": "ipython3",
   "version": "3.9.0-final"
  },
  "orig_nbformat": 2
 },
 "nbformat": 4,
 "nbformat_minor": 2
}
