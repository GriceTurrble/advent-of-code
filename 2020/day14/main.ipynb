{
 "cells": [
  {
   "cell_type": "markdown",
   "metadata": {},
   "source": [
    "# Day 14 -  Docking Data\n",
    "\n",
    "https://adventofcode.com/2020/day/14"
   ]
  },
  {
   "cell_type": "code",
   "execution_count": 40,
   "metadata": {},
   "outputs": [],
   "source": [
    "from pathlib import Path\n",
    "import re\n",
    "\n",
    "INPUTS = Path(\"input.txt\").read_text().strip().split(\"\\n\")"
   ]
  },
  {
   "cell_type": "code",
   "execution_count": 41,
   "metadata": {},
   "outputs": [],
   "source": [
    "def inty_to_biny(intval: int) -> str:\n",
    "    return f\"{f'{int(intval):b}':0>36}\"\n",
    "\n",
    "\n",
    "def masked_value(binval: str, mask: str) -> int:\n",
    "    return int(\"\".join(a if b == \"X\" else b for a, b in zip(binval, mask)), 2)"
   ]
  },
  {
   "cell_type": "code",
   "execution_count": 42,
   "metadata": {},
   "outputs": [],
   "source": [
    "memory = {}\n",
    "mask = \"\"\n",
    "for line in INPUTS:\n",
    "    if line.startswith(\"mask\"):\n",
    "        mask = line.split(\" = \")[1]\n",
    "        continue\n",
    "    _, address, value = [x.strip() for x in re.split(r\"[\\[\\]=]\", line) if x.strip()]\n",
    "    bin_value = inty_to_biny(value)\n",
    "    masked_val = masked_value(bin_value, mask)\n",
    "    memory[address] = masked_val"
   ]
  },
  {
   "cell_type": "code",
   "execution_count": 43,
   "metadata": {},
   "outputs": [
    {
     "name": "stdout",
     "output_type": "stream",
     "text": [
      "result=17934269678453\n"
     ]
    }
   ],
   "source": [
    "result = sum(memory.values())\n",
    "print(f\"{result=}\")"
   ]
  },
  {
   "cell_type": "markdown",
   "metadata": {},
   "source": [
    "## Part 2"
   ]
  },
  {
   "cell_type": "code",
   "execution_count": 44,
   "metadata": {},
   "outputs": [],
   "source": [
    "def masked_value_two(binval: str, mask: str) -> str:\n",
    "    return \"\".join(\"X\" if b == \"X\" else max(a, b) for a, b in zip(binval, mask))\n",
    "\n",
    "\n",
    "def test_it():\n",
    "    address = \"000000000000000000000000000000101010\"\n",
    "    mask = \"000000000000000000000000000000X1001X\"\n",
    "    expected = \"000000000000000000000000000000X1101X\"\n",
    "    result = masked_value_two(address, mask)\n",
    "    assert expected == result"
   ]
  },
  {
   "cell_type": "code",
   "execution_count": 45,
   "metadata": {},
   "outputs": [],
   "source": [
    "def memory_set(masked_val: str) -> list[int]:\n",
    "    split = masked_val.split(\"X\", maxsplit=1)\n",
    "    if len(split) == 1:\n",
    "        return [int(split[0], 2)]\n",
    "    return memory_set(\"0\".join(split)) + memory_set(\"1\".join(split))\n",
    "\n",
    "\n",
    "def test_memory_set():\n",
    "    masked_val = \"00000000000000000000000000000001X0XX\"\n",
    "    expected = [16, 17, 18, 19, 24, 25, 26, 27]\n",
    "    result = memory_set(masked_val)\n",
    "    assert sorted(result) == sorted(expected)"
   ]
  },
  {
   "cell_type": "code",
   "execution_count": 46,
   "metadata": {},
   "outputs": [],
   "source": [
    "second_memory = {}\n",
    "second_mask = \"\"\n",
    "for line in INPUTS:\n",
    "    if line.startswith(\"mask\"):\n",
    "        second_mask = line.split(\" = \")[1]\n",
    "        continue\n",
    "    _, address, value = [x.strip() for x in re.split(r\"[\\[\\]=]\", line) if x.strip()]\n",
    "    bin_value = inty_to_biny(address)\n",
    "    masked_val = masked_value_two(bin_value, second_mask)\n",
    "    for address in memory_set(masked_val):\n",
    "        second_memory[address] = int(value)"
   ]
  },
  {
   "cell_type": "code",
   "execution_count": 47,
   "metadata": {},
   "outputs": [
    {
     "name": "stdout",
     "output_type": "stream",
     "text": [
      "result=3440662844064\n"
     ]
    }
   ],
   "source": [
    "result = sum(second_memory.values())\n",
    "print(f\"{result=}\")"
   ]
  }
 ],
 "metadata": {
  "kernelspec": {
   "display_name": "Python 3.10.7 ('griceturrble-advent-of-code-8jQN35Cx-py3.10')",
   "language": "python",
   "name": "python3"
  },
  "language_info": {
   "codemirror_mode": {
    "name": "ipython",
    "version": 3
   },
   "file_extension": ".py",
   "mimetype": "text/x-python",
   "name": "python",
   "nbconvert_exporter": "python",
   "pygments_lexer": "ipython3",
   "version": "3.10.7"
  },
  "orig_nbformat": 4,
  "vscode": {
   "interpreter": {
    "hash": "8109129589baacb9b018d855a813e767a198bb1a619405da433ed071dce378e8"
   }
  }
 },
 "nbformat": 4,
 "nbformat_minor": 2
}
