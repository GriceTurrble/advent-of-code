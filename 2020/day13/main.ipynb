{
 "cells": [
  {
   "cell_type": "markdown",
   "metadata": {},
   "source": [
    "# Day 13: Shuttle Search\n",
    "\n",
    "https://adventofcode.com/2020/day/13\n",
    "\n",
    "## Part 1\n",
    "\n",
    "This ones sounds basically like finding the lowest multiple of a number that is greater than the target number.\n",
    "\n",
    "I suspect part 2 will have some pattern to be identified due to the presence of the `x`s in the inputs, but we'll worry about that later."
   ]
  },
  {
   "cell_type": "code",
   "execution_count": 1,
   "metadata": {},
   "outputs": [],
   "source": [
    "from pathlib import Path\n",
    "\n",
    "INPUTS = Path('input.txt').resolve().read_text().strip()"
   ]
  },
  {
   "cell_type": "code",
   "execution_count": 22,
   "metadata": {},
   "outputs": [
    {
     "name": "stdout",
     "output_type": "stream",
     "text": [
      "1007268\n",
      "[17, 41, 937, 13, 23, 29, 397, 37, 19]\n"
     ]
    }
   ],
   "source": [
    "timestamp, buses = INPUTS.split('\\n')\n",
    "timestamp, buses = int(timestamp), buses.split(',')\n",
    "part1_buses = [int(x) for x in buses if x != 'x']\n",
    "print(timestamp)\n",
    "print(part1_buses)"
   ]
  },
  {
   "cell_type": "code",
   "execution_count": 23,
   "metadata": {},
   "outputs": [
    {
     "name": "stdout",
     "output_type": "stream",
     "text": [
      "[16, 20, 7, 11, 17, 18, 318, 20, 17]\n"
     ]
    }
   ],
   "source": [
    "remainders = []\n",
    "for bus in part1_buses:\n",
    "    remainder = timestamp % bus\n",
    "    if remainder != 0:\n",
    "        remainder = bus - remainder\n",
    "    remainders.append(remainder)\n",
    "print(remainders)"
   ]
  },
  {
   "cell_type": "code",
   "execution_count": 28,
   "metadata": {},
   "outputs": [],
   "source": [
    "soonest = list(sorted(zip(part1_buses, remainders), key=lambda x: x[1]))[0]\n",
    "result = soonest[0] * soonest[1]"
   ]
  },
  {
   "cell_type": "code",
   "execution_count": 29,
   "metadata": {},
   "outputs": [
    {
     "name": "stdout",
     "output_type": "stream",
     "text": [
      "6559\n"
     ]
    }
   ],
   "source": [
    "print(result)"
   ]
  },
  {
   "cell_type": "markdown",
   "metadata": {},
   "source": [
    "## Part 2"
   ]
  }
 ],
 "metadata": {
  "kernelspec": {
   "display_name": "Python 3.10.7 ('griceturrble-advent-of-code-8jQN35Cx-py3.10')",
   "language": "python",
   "name": "python3"
  },
  "language_info": {
   "codemirror_mode": {
    "name": "ipython",
    "version": 3
   },
   "file_extension": ".py",
   "mimetype": "text/x-python",
   "name": "python",
   "nbconvert_exporter": "python",
   "pygments_lexer": "ipython3",
   "version": "3.10.7"
  },
  "orig_nbformat": 2,
  "vscode": {
   "interpreter": {
    "hash": "8109129589baacb9b018d855a813e767a198bb1a619405da433ed071dce378e8"
   }
  }
 },
 "nbformat": 4,
 "nbformat_minor": 2
}
