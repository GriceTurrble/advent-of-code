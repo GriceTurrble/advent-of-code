{
 "cells": [
  {
   "cell_type": "markdown",
   "metadata": {},
   "source": [
    "# Day 10: Adapter Array\n",
    "\n",
    "https://adventofcode.com/2020/day/10\n",
    "\n",
    "## Part 1"
   ]
  },
  {
   "cell_type": "code",
   "execution_count": 16,
   "metadata": {},
   "outputs": [],
   "source": [
    "# As always, grab that input!\n",
    "from pathlib import Path\n",
    "\n",
    "INPUTS = [int(x) for x in Path(\"input.txt\").resolve().read_text().strip().split()]"
   ]
  },
  {
   "cell_type": "markdown",
   "metadata": {},
   "source": [
    "This seems pretty straightforward. Sort the list of inputs, with the safe assumption that they all are within 3 \"jolts\" of each other, and count the deltas between them."
   ]
  },
  {
   "cell_type": "code",
   "execution_count": 17,
   "metadata": {},
   "outputs": [
    {
     "name": "stdout",
     "output_type": "stream",
     "text": [
      "All diffs: {1: 66, 2: 0, 3: 32}\n# diffs of 1 times # diffs of 3: 2112\n"
     ]
    }
   ],
   "source": [
    "adapters = sorted(INPUTS)\n",
    "adapters.append(adapters[-1] + 3)\n",
    "\n",
    "diffs = {\n",
    "    1: 0,\n",
    "    2: 0,\n",
    "    3: 0,\n",
    "}\n",
    "\n",
    "for idx, joltage in enumerate(adapters):\n",
    "    if idx == 0:\n",
    "        prior = 0\n",
    "    else:\n",
    "        prior = adapters[idx - 1]\n",
    "    delta = joltage - prior\n",
    "    diffs[delta] += 1\n",
    "\n",
    "print(f\"All diffs: {diffs}\")\n",
    "print(f\"# diffs of 1 times # diffs of 3: {diffs[1] * diffs[3]}\")"
   ]
  },
  {
   "cell_type": "markdown",
   "metadata": {},
   "source": [
    "## Part 2\n",
    "\n",
    "After some trial and error and trying to be too smart for the problem and permutations stuff, I decided to use a brute-force recursive approach.\n",
    "\n",
    "For each adapter, we look ahead by two adapters. If we're able to perform a jump to that new adapter (because it's within 3), we check for all pathways possible from that adapter and append them to total pathways. We then do the same looking ahead by two adapters, in case there is a contigiuous sequence with differences of 1 in between (`1, 2, 3, 4, ...`).\n",
    "\n",
    "To save a smidge of computing power, we also use `CACHE` to store the possible pathways from any given adapter. We're very likely to already have values within `CACHE` for all later values anyway, so on later iterations we'll mostly be hitting that `CACHE` instead of performing the calculations again."
   ]
  },
  {
   "cell_type": "code",
   "execution_count": 30,
   "metadata": {
    "tags": []
   },
   "outputs": [],
   "source": [
    "CACHE = {}\n",
    "\n",
    "\n",
    "def num_pathways(adapters, initial=True):\n",
    "    global CACHE\n",
    "    if initial:\n",
    "        # reset the cache, else runs with different sets will show weird results.\n",
    "        CACHE = {}\n",
    "        # Append the first adapter, 0, to the set. There may be multiple paths\n",
    "        # off of this first connection, so it's worth checking!\n",
    "        adapters = [0] + adapters\n",
    "        # NOTE: We don't need to add the final adapter, as that will always be\n",
    "        # 3 more than the largest input, and therefore creates no deviating pathways.\n",
    "    pathways = 1\n",
    "    for idx, joltage in enumerate(adapters):\n",
    "        try:\n",
    "            forward2 = adapters[idx + 2]\n",
    "        except IndexError:\n",
    "            # End of the set reached\n",
    "            continue\n",
    "        if forward2 - joltage > 3:\n",
    "            # We can't jump the adapter in front of us\n",
    "            continue\n",
    "\n",
    "        # Here, we know we can jump to the adapter 2 spaces ahead\n",
    "        if forward2 not in CACHE:\n",
    "            # Update the cache so later runs don't need to perform this calculation\n",
    "            CACHE[forward2] = num_pathways(adapters[idx + 2 :], initial=False)\n",
    "        # Add the cached value to our total pathways\n",
    "        pathways += CACHE[forward2]\n",
    "\n",
    "        # Do all the same as above, but check for the adpater 3 spaces ahead.\n",
    "        try:\n",
    "            forward3 = adapters[idx + 3]\n",
    "        except IndexError:\n",
    "            continue\n",
    "        if forward3 - joltage > 3:\n",
    "            continue\n",
    "\n",
    "        if forward3 not in CACHE:\n",
    "            CACHE[forward3] = num_pathways(adapters[idx + 3 :], initial=False)\n",
    "        pathways += CACHE[forward3]\n",
    "\n",
    "    return pathways"
   ]
  },
  {
   "cell_type": "code",
   "execution_count": 31,
   "metadata": {},
   "outputs": [
    {
     "name": "stdout",
     "output_type": "stream",
     "text": [
      "[1, 4, 5, 6, 7, 10, 11, 12, 15, 16, 19]\n8\n[1, 2, 3, 4, 7, 8, 9, 10, 11, 14, 17, 18, 19, 20, 23, 24, 25, 28, 31, 32, 33, 34, 35, 38, 39, 42, 45, 46, 47, 48, 49]\n19208\n"
     ]
    }
   ],
   "source": [
    "# Sanity checks with the test data.\n",
    "\n",
    "sanity1 = sorted([16, 10, 15, 5, 1, 11, 7, 19, 6, 12, 4])\n",
    "print(sanity1)\n",
    "print(num_pathways(sanity1))\n",
    "\n",
    "sanity2 = sorted(\n",
    "    [\n",
    "        28,\n",
    "        33,\n",
    "        18,\n",
    "        42,\n",
    "        31,\n",
    "        14,\n",
    "        46,\n",
    "        20,\n",
    "        48,\n",
    "        47,\n",
    "        24,\n",
    "        23,\n",
    "        49,\n",
    "        45,\n",
    "        19,\n",
    "        38,\n",
    "        39,\n",
    "        11,\n",
    "        1,\n",
    "        32,\n",
    "        25,\n",
    "        35,\n",
    "        8,\n",
    "        17,\n",
    "        7,\n",
    "        9,\n",
    "        4,\n",
    "        2,\n",
    "        34,\n",
    "        10,\n",
    "        3,\n",
    "    ]\n",
    ")\n",
    "print(sanity2)\n",
    "print(num_pathways(sanity2))"
   ]
  },
  {
   "cell_type": "code",
   "execution_count": 32,
   "metadata": {},
   "outputs": [
    {
     "name": "stdout",
     "output_type": "stream",
     "text": [
      "3022415986688\n"
     ]
    }
   ],
   "source": [
    "# And the real deal\n",
    "print(num_pathways(adapters))"
   ]
  }
 ],
 "metadata": {
  "kernelspec": {
   "display_name": "Python 3",
   "language": "python",
   "name": "python3"
  },
  "language_info": {
   "codemirror_mode": {
    "name": "ipython",
    "version": 3
   },
   "file_extension": ".py",
   "mimetype": "text/x-python",
   "name": "python",
   "nbconvert_exporter": "python",
   "pygments_lexer": "ipython3",
   "version": "3.9.0-final"
  },
  "orig_nbformat": 2
 },
 "nbformat": 4,
 "nbformat_minor": 2
}
