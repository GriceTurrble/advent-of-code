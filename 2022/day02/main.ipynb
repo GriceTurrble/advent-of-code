{
 "cells": [
  {
   "cell_type": "markdown",
   "metadata": {},
   "source": [
    "# Day 2 - \n",
    "\n",
    "https://adventofcode.com/2022/day/2"
   ]
  },
  {
   "cell_type": "code",
   "execution_count": 5,
   "metadata": {},
   "outputs": [],
   "source": [
    "from pathlib import Path\n",
    "\n",
    "INPUTS = [x.split() for x in Path(\"input.txt\").read_text().strip().split(\"\\n\")]"
   ]
  },
  {
   "cell_type": "markdown",
   "metadata": {},
   "source": [
    "## Part 1"
   ]
  },
  {
   "cell_type": "code",
   "execution_count": 9,
   "metadata": {},
   "outputs": [],
   "source": [
    "MAPPING = {\n",
    "    \"X\": {\n",
    "        \"name\": \"rock\",\n",
    "        \"score\": 1,\n",
    "        \"wins_over\": \"C\",\n",
    "        \"loses_to\": \"B\",\n",
    "    },\n",
    "    \"Y\": {\n",
    "        \"name\": \"paper\",\n",
    "        \"score\": 2,\n",
    "        \"wins_over\": \"A\",\n",
    "        \"loses_to\": \"C\",\n",
    "    },\n",
    "    \"Z\": {\n",
    "        \"name\": \"scissors\",\n",
    "        \"score\": 3,\n",
    "        \"wins_over\": \"B\",\n",
    "        \"loses_to\": \"A\",\n",
    "    },\n",
    "}"
   ]
  },
  {
   "cell_type": "code",
   "execution_count": 10,
   "metadata": {},
   "outputs": [],
   "source": [
    "score = 0\n",
    "for theirs, mine in INPUTS:\n",
    "    hand = MAPPING[mine]\n",
    "    score += hand[\"score\"]\n",
    "    if hand[\"wins_over\"] == theirs:\n",
    "        score += 6\n",
    "    elif hand[\"loses_to\"] == theirs:\n",
    "        score += 0\n",
    "    else:\n",
    "        score += 3"
   ]
  },
  {
   "cell_type": "code",
   "execution_count": 12,
   "metadata": {},
   "outputs": [
    {
     "name": "stdout",
     "output_type": "stream",
     "text": [
      "14531\n"
     ]
    }
   ],
   "source": [
    "print(score)"
   ]
  },
  {
   "cell_type": "markdown",
   "metadata": {},
   "source": [
    "## Part 2"
   ]
  },
  {
   "cell_type": "code",
   "execution_count": 13,
   "metadata": {},
   "outputs": [],
   "source": [
    "NEW_MAPPING = {\n",
    "    \"A\": {  # rock\n",
    "        \"X\": 0 + 3,  # lose: scissors\n",
    "        \"Y\": 3 + 1,  # draw: rock\n",
    "        \"Z\": 6 + 2,  # win: paper\n",
    "    },\n",
    "    \"B\": {  # paper\n",
    "        \"X\": 0 + 1,  # lose: rock\n",
    "        \"Y\": 3 + 2,  # draw: paper\n",
    "        \"Z\": 6 + 3,  # win: scissors\n",
    "    },\n",
    "    \"C\": {  # scissors\n",
    "        \"X\": 0 + 2,  # lose: paper\n",
    "        \"Y\": 3 + 3,  # draw: scissors\n",
    "        \"Z\": 6 + 1,  # win: rock\n",
    "    },\n",
    "}"
   ]
  },
  {
   "cell_type": "code",
   "execution_count": 14,
   "metadata": {},
   "outputs": [],
   "source": [
    "new_score = 0\n",
    "for theirs, result in INPUTS:\n",
    "    add = NEW_MAPPING[theirs][result]\n",
    "    new_score += add"
   ]
  },
  {
   "cell_type": "code",
   "execution_count": 15,
   "metadata": {},
   "outputs": [
    {
     "name": "stdout",
     "output_type": "stream",
     "text": [
      "11258\n"
     ]
    }
   ],
   "source": [
    "print(new_score)"
   ]
  }
 ],
 "metadata": {
  "kernelspec": {
   "display_name": "Python 3.10.7 ('griceturrble-advent-of-code-8jQN35Cx-py3.10')",
   "language": "python",
   "name": "python3"
  },
  "language_info": {
   "codemirror_mode": {
    "name": "ipython",
    "version": 3
   },
   "file_extension": ".py",
   "mimetype": "text/x-python",
   "name": "python",
   "nbconvert_exporter": "python",
   "pygments_lexer": "ipython3",
   "version": "3.10.7"
  },
  "orig_nbformat": 4,
  "vscode": {
   "interpreter": {
    "hash": "8109129589baacb9b018d855a813e767a198bb1a619405da433ed071dce378e8"
   }
  }
 },
 "nbformat": 4,
 "nbformat_minor": 2
}
