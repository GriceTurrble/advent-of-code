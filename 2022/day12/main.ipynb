{
 "cells": [
  {
   "attachments": {},
   "cell_type": "markdown",
   "metadata": {},
   "source": [
    "# Day 12 - Hill Climbing Algorithm\n",
    "\n",
    "https://adventofcode.com/2022/day/12\n",
    "\n",
    "I really don't like pathfinding challenges, because I am a lazy engineer: this isn't my domain knowledge, so I just steal what I need.\n",
    "\n",
    "Below is all borrowed from folks on Python Discord, who state that they, themselves, stole these from prior years' challenges from other people.\n",
    "\n",
    "So... I don't deserve the rank I got for solving this today, but at least I didn't try to solve it right at midnight."
   ]
  },
  {
   "cell_type": "code",
   "execution_count": 10,
   "metadata": {},
   "outputs": [],
   "source": [
    "import networkx as nx\n",
    "\n",
    "\n",
    "def parser(filename: str):\n",
    "    with open(filename, \"r\") as file:\n",
    "        loc_dict = {\n",
    "            complex(x, y): v\n",
    "            for x, row in enumerate(file.read().splitlines())\n",
    "            for y, v in enumerate(row)\n",
    "        }\n",
    "        start, end = (\n",
    "            next(i for i, v in loc_dict.items() if v == \"S\"),\n",
    "            next(i for i, v in loc_dict.items() if v == \"E\"),\n",
    "        )\n",
    "        loc_dict[start] = \"a\"\n",
    "        loc_dict[end] = \"z\"\n",
    "        return loc_dict, start, end\n",
    "\n",
    "\n",
    "def part_a_solver(loc_dict: dict[complex, str], start: complex, end: complex):\n",
    "    def get_neighbours(z: complex):\n",
    "        return (\n",
    "            z + d\n",
    "            for d in (1, 1j, -1, -1j)\n",
    "            if z + d in loc_dict and ord(loc_dict[z + d]) <= ord(loc_dict[z]) + 1\n",
    "        )\n",
    "\n",
    "    graph = nx.DiGraph(\n",
    "        [(pt, npt, {\"weight\": 1}) for pt in loc_dict for npt in get_neighbours(pt)]\n",
    "    )\n",
    "    return nx.dijkstra_path_length(graph, start, end, weight=\"weight\")\n",
    "\n",
    "\n",
    "def part_b_solver(loc_dict: dict[complex, str], start: complex, end: complex):\n",
    "    a_loc = tuple(i for i, v in loc_dict.items() if v == \"a\")\n",
    "\n",
    "    def get_neighbours(z: complex):\n",
    "        return tuple(\n",
    "            z + d\n",
    "            for d in (1, 1j, -1, -1j)\n",
    "            if z + d in loc_dict and ord(loc_dict[z + d]) >= ord(loc_dict[z]) - 1\n",
    "        ) + (a_loc if loc_dict[z] == \"a\" else tuple())\n",
    "\n",
    "    graph = nx.DiGraph(\n",
    "        [(pt, npt, {\"weight\": 1}) for pt in loc_dict for npt in get_neighbours(pt)]\n",
    "    )\n",
    "    return nx.dijkstra_path_length(graph, end, start, weight=\"weight\") - 1"
   ]
  },
  {
   "cell_type": "code",
   "execution_count": 11,
   "metadata": {},
   "outputs": [],
   "source": [
    "loc_dict, start, end = parser(\"input.txt\")\n",
    "result_part_1 = part_a_solver(loc_dict, start, end)\n",
    "result_part_2 = part_b_solver(loc_dict, start, end)"
   ]
  },
  {
   "cell_type": "code",
   "execution_count": 12,
   "metadata": {},
   "outputs": [
    {
     "name": "stdout",
     "output_type": "stream",
     "text": [
      "result_part_1=394\n",
      "result_part_2=388\n"
     ]
    }
   ],
   "source": [
    "print(f\"{result_part_1=}\")\n",
    "print(f\"{result_part_2=}\")"
   ]
  }
 ],
 "metadata": {
  "kernelspec": {
   "display_name": "griceturrble-advent-of-code-8jQN35Cx-py3.10",
   "language": "python",
   "name": "python3"
  },
  "language_info": {
   "codemirror_mode": {
    "name": "ipython",
    "version": 3
   },
   "file_extension": ".py",
   "mimetype": "text/x-python",
   "name": "python",
   "nbconvert_exporter": "python",
   "pygments_lexer": "ipython3",
   "version": "3.10.7"
  },
  "orig_nbformat": 4,
  "vscode": {
   "interpreter": {
    "hash": "8109129589baacb9b018d855a813e767a198bb1a619405da433ed071dce378e8"
   }
  }
 },
 "nbformat": 4,
 "nbformat_minor": 2
}
