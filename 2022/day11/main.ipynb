{
 "cells": [
  {
   "attachments": {},
   "cell_type": "markdown",
   "metadata": {},
   "source": [
    "# Day 11 - Monkey in the Middle\n",
    "\n",
    "https://adventofcode.com/2022/day/11"
   ]
  },
  {
   "cell_type": "code",
   "execution_count": 17,
   "metadata": {},
   "outputs": [],
   "source": [
    "from pathlib import Path\n",
    "from typing import Literal\n",
    "import numpy as np\n",
    "import ipytest\n",
    "import math\n",
    "\n",
    "ipytest.autoconfig(addopts=[\"-v\"])\n",
    "\n",
    "INPUTS = Path(\"input.txt\").read_text().strip().split(\"\\n\\n\")"
   ]
  },
  {
   "attachments": {},
   "cell_type": "markdown",
   "metadata": {},
   "source": [
    "## Part 1"
   ]
  },
  {
   "cell_type": "code",
   "execution_count": 18,
   "metadata": {},
   "outputs": [],
   "source": [
    "class Monkey:\n",
    "    def __init__(\n",
    "        self,\n",
    "        items: list[int],\n",
    "        op_type: Literal[\"+\", \"*\", \"^2\"],\n",
    "        op_val: int,\n",
    "        test_val: int,\n",
    "        true_target: int,\n",
    "        false_target: int,\n",
    "    ):\n",
    "        self.items = items\n",
    "        self.op_type = op_type\n",
    "        self.op_val = op_val\n",
    "        self.test_val = test_val\n",
    "        self.true_target = true_target\n",
    "        self.false_target = false_target\n",
    "        self.num_inspections = 0\n",
    "\n",
    "    def do_inspections(\n",
    "        self,\n",
    "        worry_divisor: int | None = None,\n",
    "        lcm: int | None = None,\n",
    "    ) -> list[tuple[int, int]]:\n",
    "        if not self.items:\n",
    "            return []\n",
    "        items_array = np.array(self.items, dtype=np.int64)\n",
    "        if self.op_type == \"^2\":\n",
    "            items_array = np.power(items_array, 2, dtype=np.int64)\n",
    "        elif self.op_type == \"*\":\n",
    "            items_array *= self.op_val\n",
    "        else:\n",
    "            items_array += self.op_val\n",
    "\n",
    "        if worry_divisor:\n",
    "            items_array //= worry_divisor\n",
    "        if lcm:\n",
    "            items_array %= lcm\n",
    "\n",
    "        mods = items_array % self.test_val\n",
    "        items_to_throw = [\n",
    "            (self.false_target if mod else self.true_target, int(item))\n",
    "            for item, mod in zip(items_array, mods)\n",
    "        ]\n",
    "        self.num_inspections += len(self.items)\n",
    "        self.items = []\n",
    "        return items_to_throw"
   ]
  },
  {
   "cell_type": "code",
   "execution_count": 19,
   "metadata": {},
   "outputs": [],
   "source": [
    "def parse_inputs(inputs: list[str]) -> list[Monkey]:\n",
    "    monkeys = []\n",
    "    for details in inputs:\n",
    "        # ignore row 0\n",
    "        # (monkey identifier; we'll just have a list of Monkey class instances)\n",
    "        m = details.split(\"\\n\")[1:]\n",
    "        # items split from first row\n",
    "        items = list(map(int, m[0].split(\"items: \")[1].split(\", \")))\n",
    "        # operation and its value from second row\n",
    "        op_type, val = m[1].split(\"old \", maxsplit=1)[1].split()\n",
    "        if val == \"old\":\n",
    "            # Special case, this operation is actually squaring the value\n",
    "            op_val = -1\n",
    "            op_type = \"^2\"\n",
    "        else:\n",
    "            op_val = int(val)\n",
    "        # test value from third row\n",
    "        test_val = int(m[2].split(\"by \")[1])\n",
    "        true_target = int(m[3].split()[-1])\n",
    "        false_target = int(m[4].split()[-1])\n",
    "        monkeys.append(\n",
    "            Monkey(\n",
    "                items=items,\n",
    "                op_type=op_type,  # type: ignore\n",
    "                op_val=op_val,\n",
    "                test_val=test_val,\n",
    "                true_target=true_target,\n",
    "                false_target=false_target,\n",
    "            )\n",
    "        )\n",
    "    return monkeys\n",
    "\n",
    "\n",
    "monkeys = parse_inputs(INPUTS)"
   ]
  },
  {
   "cell_type": "code",
   "execution_count": 20,
   "metadata": {},
   "outputs": [],
   "source": [
    "from copy import deepcopy\n",
    "\n",
    "\n",
    "def run_rounds(\n",
    "    monkeys: list[Monkey],\n",
    "    num_rounds: int = 20,\n",
    "    worry_divisor: int | None = None,\n",
    ") -> list[Monkey]:\n",
    "    monkeys_copy = deepcopy(monkeys)\n",
    "    if worry_divisor:\n",
    "        kwargs = {\"worry_divisor\": worry_divisor}\n",
    "    else:\n",
    "        # lcm required instead\n",
    "        lcm = math.lcm(*[m.test_val for m in monkeys_copy])\n",
    "        kwargs = {\"lcm\": lcm}\n",
    "    for i in range(num_rounds):\n",
    "        for monkey in monkeys_copy:\n",
    "            for target, item in monkey.do_inspections(**kwargs):\n",
    "                monkeys_copy[target].items.append(item)\n",
    "    return monkeys_copy"
   ]
  },
  {
   "cell_type": "code",
   "execution_count": 21,
   "metadata": {},
   "outputs": [
    {
     "name": "stdout",
     "output_type": "stream",
     "text": [
      "result=66124\n"
     ]
    }
   ],
   "source": [
    "monkeys_after_part1 = run_rounds(monkeys, worry_divisor=3)\n",
    "\n",
    "top_monkeys = sorted(x.num_inspections for x in monkeys_after_part1)[-2:]\n",
    "result = top_monkeys[0] * top_monkeys[1]\n",
    "print(f\"{result=}\")"
   ]
  },
  {
   "attachments": {},
   "cell_type": "markdown",
   "metadata": {},
   "source": [
    "## Part 2\n",
    "\n",
    "I'll admit I was stuck here for a while before I checked some discussion in Python Discord about it. I didn't need much spoiling, but I did learn about [least common multiples](https://en.wikipedia.org/wiki/Least_common_multiple), which is what we'll need in order to keep these numbers below a manageable maximum. Otherwise they overflow and can't be correctly calculated anymore, throwing off the calculations for number of inspections even as low as 1,000 rounds, let alone 10,000.\n",
    "\n",
    "But with that simple adjustment to incorporate `math.lcm`, we needed no further changes and could get a positive result."
   ]
  },
  {
   "cell_type": "code",
   "execution_count": 22,
   "metadata": {},
   "outputs": [
    {
     "name": "stdout",
     "output_type": "stream",
     "text": [
      "======================================= test session starts ========================================\n",
      "platform darwin -- Python 3.10.7, pytest-7.2.0, pluggy-1.0.0 -- /Users/garice/Library/Caches/pypoetry/virtualenvs/griceturrble-advent-of-code-8jQN35Cx-py3.10/bin/python\n",
      "cachedir: .pytest_cache\n",
      "rootdir: /Users/garice/dev/gits/personal/advent-of-code/2022/day11\n",
      "collecting ... collected 13 items\n",
      "\n",
      "t_9d9c4dd4a7b14c7d9203dea719b1e4ae.py::test_part1 PASSED                                     [  7%]\n",
      "t_9d9c4dd4a7b14c7d9203dea719b1e4ae.py::test_part2[1-expected_inspections0] PASSED            [ 15%]\n",
      "t_9d9c4dd4a7b14c7d9203dea719b1e4ae.py::test_part2[20-expected_inspections1] PASSED           [ 23%]\n",
      "t_9d9c4dd4a7b14c7d9203dea719b1e4ae.py::test_part2[1000-expected_inspections2] PASSED         [ 30%]\n",
      "t_9d9c4dd4a7b14c7d9203dea719b1e4ae.py::test_part2[2000-expected_inspections3] PASSED         [ 38%]\n",
      "t_9d9c4dd4a7b14c7d9203dea719b1e4ae.py::test_part2[3000-expected_inspections4] PASSED         [ 46%]\n",
      "t_9d9c4dd4a7b14c7d9203dea719b1e4ae.py::test_part2[4000-expected_inspections5] PASSED         [ 53%]\n",
      "t_9d9c4dd4a7b14c7d9203dea719b1e4ae.py::test_part2[5000-expected_inspections6] PASSED         [ 61%]\n",
      "t_9d9c4dd4a7b14c7d9203dea719b1e4ae.py::test_part2[6000-expected_inspections7] PASSED         [ 69%]\n",
      "t_9d9c4dd4a7b14c7d9203dea719b1e4ae.py::test_part2[7000-expected_inspections8] PASSED         [ 76%]\n",
      "t_9d9c4dd4a7b14c7d9203dea719b1e4ae.py::test_part2[8000-expected_inspections9] PASSED         [ 84%]\n",
      "t_9d9c4dd4a7b14c7d9203dea719b1e4ae.py::test_part2[9000-expected_inspections10] PASSED        [ 92%]\n",
      "t_9d9c4dd4a7b14c7d9203dea719b1e4ae.py::test_part2[10000-expected_inspections11] PASSED       [100%]\n",
      "\n",
      "======================================== 13 passed in 0.77s ========================================\n"
     ]
    }
   ],
   "source": [
    "%%ipytest\n",
    "\n",
    "import pytest\n",
    "\n",
    "\n",
    "TEST_INPUTS = \"\"\"Monkey 0:\n",
    "  Starting items: 79, 98\n",
    "  Operation: new = old * 19\n",
    "  Test: divisible by 23\n",
    "    If true: throw to monkey 2\n",
    "    If false: throw to monkey 3\n",
    "\n",
    "Monkey 1:\n",
    "  Starting items: 54, 65, 75, 74\n",
    "  Operation: new = old + 6\n",
    "  Test: divisible by 19\n",
    "    If true: throw to monkey 2\n",
    "    If false: throw to monkey 0\n",
    "\n",
    "Monkey 2:\n",
    "  Starting items: 79, 60, 97\n",
    "  Operation: new = old * old\n",
    "  Test: divisible by 13\n",
    "    If true: throw to monkey 1\n",
    "    If false: throw to monkey 3\n",
    "\n",
    "Monkey 3:\n",
    "  Starting items: 74\n",
    "  Operation: new = old + 3\n",
    "  Test: divisible by 17\n",
    "    If true: throw to monkey 0\n",
    "    If false: throw to monkey 1\"\"\"\n",
    "\n",
    "def test_part1():\n",
    "    inputs = TEST_INPUTS.split('\\n\\n')\n",
    "    monkeys = parse_inputs(inputs)\n",
    "    monkeys_after_test = run_rounds(monkeys, num_rounds=20, worry_divisor=3)\n",
    "    inspections = [x.num_inspections for x in monkeys_after_test]\n",
    "    top_monkeys = sorted(inspections)[-2:]\n",
    "    result = top_monkeys[0] * top_monkeys[1]\n",
    "    expected = 10605\n",
    "    assert result == expected, f\"{result=}, {expected=}\"\n",
    "\n",
    "\n",
    "@pytest.mark.parametrize(\"num_rounds, expected_inspections\", [\n",
    "    (1, [2, 3, 4, 6]),\n",
    "    (20, [97, 8, 99, 103]),\n",
    "    (1_000, [5192, 5204, 199, 4792]),\n",
    "    (2_000, [10391, 10419, 9577, 392]),\n",
    "    (3_000, [15638, 14358, 587, 15593]),\n",
    "    (4_000, [20858, 19138, 780, 20797]),\n",
    "    (5_000, [26075, 23921, 974, 26000]),\n",
    "    (6_000, [31294, 28702, 1165, 31204]),\n",
    "    (7_000, [36508, 33488, 1360, 36400]),\n",
    "    (8_000, [41728, 38268, 1553, 41606]),\n",
    "    (9_000, [46945, 43051, 1746, 46807]),\n",
    "    (10_000, [52166, 47830, 1938, 52013]),\n",
    "])\n",
    "def test_part2(num_rounds: int, expected_inspections: list[int]):\n",
    "    inputs = TEST_INPUTS.split('\\n\\n')\n",
    "    monkeys = parse_inputs(inputs)\n",
    "    monkeys_after_test = run_rounds(monkeys, num_rounds=num_rounds)\n",
    "    inspections = [x.num_inspections for x in monkeys_after_test]\n",
    "    assert sorted(expected_inspections) == sorted(inspections)\n"
   ]
  },
  {
   "cell_type": "code",
   "execution_count": 23,
   "metadata": {},
   "outputs": [],
   "source": [
    "monkeys_after_part2 = run_rounds(monkeys, num_rounds=10_000)"
   ]
  },
  {
   "cell_type": "code",
   "execution_count": 24,
   "metadata": {},
   "outputs": [
    {
     "name": "stdout",
     "output_type": "stream",
     "text": [
      "result=19309892877\n"
     ]
    }
   ],
   "source": [
    "top_monkeys = sorted(x.num_inspections for x in monkeys_after_part2)[-2:]\n",
    "result = top_monkeys[0] * top_monkeys[1]\n",
    "print(f\"{result=}\")"
   ]
  }
 ],
 "metadata": {
  "kernelspec": {
   "display_name": "griceturrble-advent-of-code-8jQN35Cx-py3.10",
   "language": "python",
   "name": "python3"
  },
  "language_info": {
   "codemirror_mode": {
    "name": "ipython",
    "version": 3
   },
   "file_extension": ".py",
   "mimetype": "text/x-python",
   "name": "python",
   "nbconvert_exporter": "python",
   "pygments_lexer": "ipython3",
   "version": "3.10.7"
  },
  "orig_nbformat": 4,
  "vscode": {
   "interpreter": {
    "hash": "8109129589baacb9b018d855a813e767a198bb1a619405da433ed071dce378e8"
   }
  }
 },
 "nbformat": 4,
 "nbformat_minor": 2
}
