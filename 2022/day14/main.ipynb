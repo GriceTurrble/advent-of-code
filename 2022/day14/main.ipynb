{
 "cells": [
  {
   "attachments": {},
   "cell_type": "markdown",
   "metadata": {},
   "source": [
    "# Day 14 - Regolith Reservoir\n",
    "\n",
    "https://adventofcode.com/2022/day/14"
   ]
  },
  {
   "cell_type": "code",
   "execution_count": 1,
   "metadata": {},
   "outputs": [],
   "source": [
    "from pathlib import Path\n",
    "\n",
    "PATHS = Path(\"input.txt\").read_text().strip().split(\"\\n\")"
   ]
  },
  {
   "cell_type": "code",
   "execution_count": 2,
   "metadata": {},
   "outputs": [
    {
     "data": {
      "text/plain": [
       "[(532, 137),\n",
       " (532, 130),\n",
       " (532, 137),\n",
       " (534, 137),\n",
       " (534, 127),\n",
       " (534, 137),\n",
       " (536, 137),\n",
       " (536, 135),\n",
       " (536, 137),\n",
       " (538, 137),\n",
       " (538, 127),\n",
       " (538, 137),\n",
       " (540, 137),\n",
       " (540, 132),\n",
       " (540, 137),\n",
       " (542, 137),\n",
       " (542, 135),\n",
       " (542, 137),\n",
       " (544, 137),\n",
       " (544, 127),\n",
       " (544, 137),\n",
       " (546, 137),\n",
       " (546, 131),\n",
       " (546, 137),\n",
       " (548, 137),\n",
       " (548, 134),\n",
       " (548, 137),\n",
       " (550, 137),\n",
       " (550, 133),\n",
       " (550, 137)]"
      ]
     },
     "execution_count": 2,
     "metadata": {},
     "output_type": "execute_result"
    }
   ],
   "source": [
    "points = []\n",
    "\n",
    "for line in PATHS:\n",
    "    vertices = [tuple(map(int, x.split(\",\"))) for x in PATHS[0].split(\" -> \")]\n",
    "vertices"
   ]
  }
 ],
 "metadata": {
  "kernelspec": {
   "display_name": "griceturrble-advent-of-code-8jQN35Cx-py3.10",
   "language": "python",
   "name": "python3"
  },
  "language_info": {
   "codemirror_mode": {
    "name": "ipython",
    "version": 3
   },
   "file_extension": ".py",
   "mimetype": "text/x-python",
   "name": "python",
   "nbconvert_exporter": "python",
   "pygments_lexer": "ipython3",
   "version": "3.12.1"
  },
  "orig_nbformat": 4,
  "vscode": {
   "interpreter": {
    "hash": "8109129589baacb9b018d855a813e767a198bb1a619405da433ed071dce378e8"
   }
  }
 },
 "nbformat": 4,
 "nbformat_minor": 2
}
