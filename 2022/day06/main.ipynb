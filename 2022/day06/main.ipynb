{
 "cells": [
  {
   "cell_type": "markdown",
   "metadata": {},
   "source": [
    "# Day 6 - Tuning Trouble\n",
    "\n",
    "https://adventofcode.com/2022/day/6\n"
   ]
  },
  {
   "cell_type": "code",
   "execution_count": 41,
   "metadata": {},
   "outputs": [],
   "source": [
    "from pathlib import Path\n",
    "import ipytest\n",
    "\n",
    "ipytest.autoconfig(addopts=[\"-v\"])  # type: ignore\n",
    "INPUTS = Path(\"input.txt\").read_text().strip()"
   ]
  },
  {
   "cell_type": "markdown",
   "metadata": {},
   "source": [
    "## The short version\n",
    "\n",
    "Truth be told I did this challenge overnight using a [Replit](https://replit.com/) because it was fairly straightforward:\n"
   ]
  },
  {
   "cell_type": "code",
   "execution_count": 42,
   "metadata": {},
   "outputs": [
    {
     "name": "stdout",
     "output_type": "stream",
     "text": [
      "Part 1 result: 1582\n",
      "Part 2 result: 3588\n"
     ]
    }
   ],
   "source": [
    "def get_thing(num: int) -> int:\n",
    "    for i in range(num, len(INPUTS)):\n",
    "        if len(set(INPUTS[i - num : i])) == num:\n",
    "            return i\n",
    "\n",
    "\n",
    "print(f\"Part 1 result: {get_thing(4)}\")\n",
    "print(f\"Part 2 result: {get_thing(14)}\")"
   ]
  },
  {
   "cell_type": "markdown",
   "metadata": {},
   "source": [
    "## The long version\n",
    "\n",
    "So, now I come to writing up this notebook for the solution. The above, while it works, is a bit dull.\n",
    "\n",
    "Let's make this a more convoluted OOP solution instead, shall we? :)\n",
    "\n",
    "### Classes\n",
    "\n",
    "Let's start by writing out our class architecture."
   ]
  },
  {
   "cell_type": "code",
   "execution_count": 43,
   "metadata": {},
   "outputs": [],
   "source": [
    "from typing import Generator\n",
    "\n",
    "\n",
    "class Signal:\n",
    "    \"\"\"Class containing a fairly convoluted possible solution for the day.\"\"\"\n",
    "\n",
    "    START_PACKET_MARKER_LENGTH: int = 4\n",
    "    START_MESSAGE_MARKER_LENGTH: int = 14\n",
    "\n",
    "    def __init__(self, content: str):\n",
    "        self.content = content\n",
    "\n",
    "    def windows(self, window_len: int) -> Generator:\n",
    "        \"\"\"Generator that returns sliding windows of length `window_len`\n",
    "        from the contents.\n",
    "        \"\"\"\n",
    "        for i in range(window_len, len(self.content)):\n",
    "            yield self.content[i - window_len : i]\n",
    "\n",
    "    def window_sets(self, window_len: int) -> Generator:\n",
    "        \"\"\"Generator returning sets from sliding windows of length `window_len`.\"\"\"\n",
    "        for window in self.windows(window_len=window_len):\n",
    "            yield set(window)\n",
    "\n",
    "    def _find_start_of_marker(self, marker_len: int) -> int:\n",
    "        \"\"\"Solve the problem for a marker of length `marker_len`,\n",
    "        locating the first position where the marker ENDS in the content string.\n",
    "        \"\"\"\n",
    "        for idx, window_set in enumerate(self.window_sets(window_len=marker_len)):\n",
    "            if len(window_set) == marker_len:\n",
    "                return idx + marker_len\n",
    "        raise ValueError(\n",
    "            f\"Could not locate marker of length {marker_len} in code contents\"\n",
    "        )\n",
    "\n",
    "    @property\n",
    "    def packet_marker_pos(self) -> int:\n",
    "        \"\"\"Returns END of the packer marker (length\"\"\"\n",
    "        return self._find_start_of_marker(marker_len=self.START_PACKET_MARKER_LENGTH)\n",
    "\n",
    "    @property\n",
    "    def message_marker_pos(self) -> int:\n",
    "        \"\"\"Returns END of the message marker\"\"\"\n",
    "        return self._find_start_of_marker(marker_len=self.START_MESSAGE_MARKER_LENGTH)"
   ]
  },
  {
   "cell_type": "markdown",
   "metadata": {},
   "source": [
    "### Testing\n",
    "\n",
    "Now what good would all this be without proper testing?"
   ]
  },
  {
   "cell_type": "code",
   "execution_count": 44,
   "metadata": {},
   "outputs": [
    {
     "name": "stdout",
     "output_type": "stream",
     "text": [
      "======================================= test session starts ========================================\n",
      "platform darwin -- Python 3.10.7, pytest-7.2.0, pluggy-1.0.0 -- /Users/garice/Library/Caches/pypoetry/virtualenvs/griceturrble-advent-of-code-8jQN35Cx-py3.10/bin/python\n",
      "cachedir: .pytest_cache\n",
      "rootdir: /Users/garice/dev/gits/personal/advent-of-code/2022/day06\n",
      "collecting ... collected 10 items\n",
      "\n",
      "t_274ff130844149cda5e06b8d8856cf8c.py::test_finding_packet_marker[mjqjpqmgbljsphdztnvjfqwrcgsmlb-7] PASSED [ 10%]\n",
      "t_274ff130844149cda5e06b8d8856cf8c.py::test_finding_packet_marker[bvwbjplbgvbhsrlpgdmjqwftvncz-5] PASSED [ 20%]\n",
      "t_274ff130844149cda5e06b8d8856cf8c.py::test_finding_packet_marker[nppdvjthqldpwncqszvftbrmjlhg-6] PASSED [ 30%]\n",
      "t_274ff130844149cda5e06b8d8856cf8c.py::test_finding_packet_marker[nznrnfrfntjfmvfwmzdfjlvtqnbhcprsg-10] PASSED [ 40%]\n",
      "t_274ff130844149cda5e06b8d8856cf8c.py::test_finding_packet_marker[zcfzfwzzqfrljwzlrfnpqdbhtmscgvjw-11] PASSED [ 50%]\n",
      "t_274ff130844149cda5e06b8d8856cf8c.py::test_finding_message_marker[mjqjpqmgbljsphdztnvjfqwrcgsmlb-19] PASSED [ 60%]\n",
      "t_274ff130844149cda5e06b8d8856cf8c.py::test_finding_message_marker[bvwbjplbgvbhsrlpgdmjqwftvncz-23] PASSED [ 70%]\n",
      "t_274ff130844149cda5e06b8d8856cf8c.py::test_finding_message_marker[nppdvjthqldpwncqszvftbrmjlhg-23] PASSED [ 80%]\n",
      "t_274ff130844149cda5e06b8d8856cf8c.py::test_finding_message_marker[nznrnfrfntjfmvfwmzdfjlvtqnbhcprsg-29] PASSED [ 90%]\n",
      "t_274ff130844149cda5e06b8d8856cf8c.py::test_finding_message_marker[zcfzfwzzqfrljwzlrfnpqdbhtmscgvjw-26] PASSED [100%]\n",
      "\n",
      "======================================== 10 passed in 0.03s ========================================\n"
     ]
    }
   ],
   "source": [
    "%%ipytest\n",
    "\n",
    "import pytest\n",
    "\n",
    "@pytest.mark.parametrize(\"content, expected\", [\n",
    "    (\"mjqjpqmgbljsphdztnvjfqwrcgsmlb\", 7),\n",
    "    (\"bvwbjplbgvbhsrlpgdmjqwftvncz\", 5),\n",
    "    (\"nppdvjthqldpwncqszvftbrmjlhg\", 6),\n",
    "    (\"nznrnfrfntjfmvfwmzdfjlvtqnbhcprsg\", 10),\n",
    "    (\"zcfzfwzzqfrljwzlrfnpqdbhtmscgvjw\", 11),\n",
    "])\n",
    "def test_finding_packet_marker(content: str, expected: int):\n",
    "    code = Signal(content)\n",
    "    assert code.packet_marker_pos == expected\n",
    "\n",
    "\n",
    "\n",
    "@pytest.mark.parametrize(\"content, expected\", [\n",
    "    (\"mjqjpqmgbljsphdztnvjfqwrcgsmlb\", 19),\n",
    "    (\"bvwbjplbgvbhsrlpgdmjqwftvncz\", 23),\n",
    "    (\"nppdvjthqldpwncqszvftbrmjlhg\", 23),\n",
    "    (\"nznrnfrfntjfmvfwmzdfjlvtqnbhcprsg\", 29),\n",
    "    (\"zcfzfwzzqfrljwzlrfnpqdbhtmscgvjw\", 26),\n",
    "])\n",
    "def test_finding_message_marker(content: str, expected: int):\n",
    "    code = Signal(content)\n",
    "    assert code.message_marker_pos == expected"
   ]
  },
  {
   "cell_type": "markdown",
   "metadata": {},
   "source": [
    "### Execution\n",
    "\n",
    "Tests are passing, whew! Now we can finally get some answers!"
   ]
  },
  {
   "cell_type": "code",
   "execution_count": 45,
   "metadata": {},
   "outputs": [
    {
     "name": "stdout",
     "output_type": "stream",
     "text": [
      "Part 1 result: 1582\n",
      "Part 2 result: 3588\n"
     ]
    }
   ],
   "source": [
    "code = Signal(INPUTS)\n",
    "print(f\"Part 1 result: {code.packet_marker_pos}\")\n",
    "print(f\"Part 2 result: {code.message_marker_pos}\")"
   ]
  },
  {
   "cell_type": "markdown",
   "metadata": {},
   "source": [
    "Welp, there you have it. Why settle for a 4-line solution when you can rewrite it into a 45-line class, eh?"
   ]
  }
 ],
 "metadata": {
  "kernelspec": {
   "display_name": "Python 3.10.7 ('griceturrble-advent-of-code-8jQN35Cx-py3.10')",
   "language": "python",
   "name": "python3"
  },
  "language_info": {
   "codemirror_mode": {
    "name": "ipython",
    "version": 3
   },
   "file_extension": ".py",
   "mimetype": "text/x-python",
   "name": "python",
   "nbconvert_exporter": "python",
   "pygments_lexer": "ipython3",
   "version": "3.10.7"
  },
  "orig_nbformat": 4,
  "vscode": {
   "interpreter": {
    "hash": "8109129589baacb9b018d855a813e767a198bb1a619405da433ed071dce378e8"
   }
  }
 },
 "nbformat": 4,
 "nbformat_minor": 2
}
