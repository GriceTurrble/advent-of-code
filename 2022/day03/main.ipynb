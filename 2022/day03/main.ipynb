{
 "cells": [
  {
   "cell_type": "markdown",
   "metadata": {},
   "source": [
    "# Day 3 - \n",
    "\n",
    "https://adventofcode.com/2022/day/3"
   ]
  },
  {
   "cell_type": "code",
   "execution_count": 1,
   "metadata": {},
   "outputs": [],
   "source": [
    "from pathlib import Path\n",
    "import string\n",
    "import ipytest\n",
    "\n",
    "ipytest.autoconfig()\n",
    "\n",
    "INPUTS = Path(\"input.txt\").read_text().strip().split(\"\\n\")"
   ]
  },
  {
   "cell_type": "code",
   "execution_count": 2,
   "metadata": {},
   "outputs": [],
   "source": [
    "PRIORITY = string.ascii_lowercase + string.ascii_uppercase\n",
    "\n",
    "\n",
    "def get_priority(char: str) -> int:\n",
    "    return PRIORITY.index(char) + 1\n",
    "\n",
    "\n",
    "def test_priority():\n",
    "    assert get_priority(\"a\") == 1\n",
    "    assert get_priority(\"z\") == 26\n",
    "    assert get_priority(\"A\") == 27\n",
    "    assert get_priority(\"Z\") == 52"
   ]
  },
  {
   "cell_type": "code",
   "execution_count": 3,
   "metadata": {},
   "outputs": [],
   "source": [
    "def get_halves(line: str) -> tuple[str, str]:\n",
    "    mid = len(line) // 2\n",
    "    return line[:mid], line[mid:]\n",
    "\n",
    "\n",
    "def get_dupe_char(line: str) -> str:\n",
    "    first, second = get_halves(line)\n",
    "    return list(set(first) & set(second))[0]\n",
    "\n",
    "\n",
    "def get_line_priority(line: str) -> int:\n",
    "    char = get_dupe_char(line)\n",
    "    return get_priority(char)"
   ]
  },
  {
   "cell_type": "code",
   "execution_count": 6,
   "metadata": {},
   "outputs": [
    {
     "name": "stdout",
     "output_type": "stream",
     "text": [
      "\u001b[1m======================================= test session starts ========================================\u001b[0m\n",
      "platform linux -- Python 3.12.1, pytest-7.4.4, pluggy-1.3.0 -- /home/griceturrble/.cache/pypoetry/virtualenvs/scratchpad-uyv5OavX-py3.12/bin/python\n",
      "cachedir: .pytest_cache\n",
      "rootdir: /home/griceturrble/dev/gits/advent-of-code/2022/day03\n",
      "\u001b[1mcollecting ... \u001b[0mcollected 12 items\n",
      "\n",
      "t_fb14de71798140ee8015b0743395a9d0.py::test_get_dupe_char[vJrwpWtwJgWrhcsFMMfFFhFp-p] \u001b[32mPASSED\u001b[0m\u001b[32m [  8%]\u001b[0m\n",
      "t_fb14de71798140ee8015b0743395a9d0.py::test_get_dupe_char[jqHRNqRjqzjGDLGLrsFMfFZSrLrFZsSL-L] \u001b[32mPASSED\u001b[0m\u001b[32m [ 16%]\u001b[0m\n",
      "t_fb14de71798140ee8015b0743395a9d0.py::test_get_dupe_char[PmmdzqPrVvPwwTWBwg-P] \u001b[32mPASSED\u001b[0m\u001b[32m       [ 25%]\u001b[0m\n",
      "t_fb14de71798140ee8015b0743395a9d0.py::test_get_dupe_char[wMqvLMZHhHMvwLHjbvcjnnSBnvTQFn-v] \u001b[32mPASSED\u001b[0m\u001b[32m [ 33%]\u001b[0m\n",
      "t_fb14de71798140ee8015b0743395a9d0.py::test_get_dupe_char[ttgJtRGJQctTZtZT-t] \u001b[32mPASSED\u001b[0m\u001b[32m         [ 41%]\u001b[0m\n",
      "t_fb14de71798140ee8015b0743395a9d0.py::test_get_dupe_char[CrZsJsPPZsGzwwsLwLmpwMDw-s] \u001b[32mPASSED\u001b[0m\u001b[32m [ 50%]\u001b[0m\n",
      "t_fb14de71798140ee8015b0743395a9d0.py::test_get_priority_for_line[vJrwpWtwJgWrhcsFMMfFFhFp-16] \u001b[32mPASSED\u001b[0m\u001b[32m [ 58%]\u001b[0m\n",
      "t_fb14de71798140ee8015b0743395a9d0.py::test_get_priority_for_line[jqHRNqRjqzjGDLGLrsFMfFZSrLrFZsSL-38] \u001b[32mPASSED\u001b[0m\u001b[32m [ 66%]\u001b[0m\n",
      "t_fb14de71798140ee8015b0743395a9d0.py::test_get_priority_for_line[PmmdzqPrVvPwwTWBwg-42] \u001b[32mPASSED\u001b[0m\u001b[32m [ 75%]\u001b[0m\n",
      "t_fb14de71798140ee8015b0743395a9d0.py::test_get_priority_for_line[wMqvLMZHhHMvwLHjbvcjnnSBnvTQFn-22] \u001b[32mPASSED\u001b[0m\u001b[32m [ 83%]\u001b[0m\n",
      "t_fb14de71798140ee8015b0743395a9d0.py::test_get_priority_for_line[ttgJtRGJQctTZtZT-20] \u001b[32mPASSED\u001b[0m\u001b[32m [ 91%]\u001b[0m\n",
      "t_fb14de71798140ee8015b0743395a9d0.py::test_get_priority_for_line[CrZsJsPPZsGzwwsLwLmpwMDw-19] \u001b[32mPASSED\u001b[0m\u001b[32m [100%]\u001b[0m\n",
      "\n",
      "\u001b[32m======================================== \u001b[32m\u001b[1m12 passed\u001b[0m\u001b[32m in 0.05s\u001b[0m\u001b[32m ========================================\u001b[0m\n"
     ]
    }
   ],
   "source": [
    "%%ipytest -vv\n",
    "\n",
    "import pytest\n",
    "\n",
    "\n",
    "@pytest.mark.parametrize(\"line, expected\", [\n",
    "    ('vJrwpWtwJgWrhcsFMMfFFhFp', 'p'),\n",
    "    ('jqHRNqRjqzjGDLGLrsFMfFZSrLrFZsSL', 'L'),\n",
    "    ('PmmdzqPrVvPwwTWBwg', 'P'),\n",
    "    ('wMqvLMZHhHMvwLHjbvcjnnSBnvTQFn', 'v'),\n",
    "    ('ttgJtRGJQctTZtZT', 't'),\n",
    "    ('CrZsJsPPZsGzwwsLwLmpwMDw', 's'),\n",
    "])\n",
    "def test_get_dupe_char(line: str, expected: str):\n",
    "    assert get_dupe_char(line) == expected\n",
    "\n",
    "@pytest.mark.parametrize(\"line, expected\", [\n",
    "    ('vJrwpWtwJgWrhcsFMMfFFhFp', 16),\n",
    "    ('jqHRNqRjqzjGDLGLrsFMfFZSrLrFZsSL', 38),\n",
    "    ('PmmdzqPrVvPwwTWBwg', 42),\n",
    "    ('wMqvLMZHhHMvwLHjbvcjnnSBnvTQFn', 22),\n",
    "    ('ttgJtRGJQctTZtZT', 20),\n",
    "    ('CrZsJsPPZsGzwwsLwLmpwMDw', 19),\n",
    "])\n",
    "def test_get_priority_for_line(line: str, expected: int):\n",
    "    assert get_line_priority(line) == expected\n"
   ]
  },
  {
   "cell_type": "code",
   "execution_count": 54,
   "metadata": {},
   "outputs": [
    {
     "name": "stdout",
     "output_type": "stream",
     "text": [
      "sum=8515\n"
     ]
    }
   ],
   "source": [
    "sum = 0\n",
    "for line in INPUTS:\n",
    "    sum += get_line_priority(line)\n",
    "print(f\"{sum=}\")"
   ]
  },
  {
   "cell_type": "markdown",
   "metadata": {},
   "source": [
    "## Part 2\n"
   ]
  },
  {
   "cell_type": "code",
   "execution_count": 55,
   "metadata": {},
   "outputs": [],
   "source": [
    "def get_badge_for_group(*lines: str) -> str:\n",
    "    badge_set = set()\n",
    "    for line in lines:\n",
    "        if not badge_set:\n",
    "            badge_set = set(line)\n",
    "        else:\n",
    "            badge_set &= set(line)\n",
    "    return list(badge_set)[0]\n",
    "\n",
    "\n",
    "def test_get_badge_for_group():\n",
    "    group = [\n",
    "        \"vJrwpWtwJgWrhcsFMMfFFhFp\",\n",
    "        \"jqHRNqRjqzjGDLGLrsFMfFZSrLrFZsSL\",\n",
    "        \"PmmdzqPrVvPwwTWBwg\",\n",
    "    ]\n",
    "    expected = \"r\"\n",
    "    assert get_badge_for_group(*group) == expected"
   ]
  },
  {
   "cell_type": "code",
   "execution_count": 56,
   "metadata": {},
   "outputs": [
    {
     "name": "stdout",
     "output_type": "stream",
     "text": [
      "new_sum=2434\n"
     ]
    }
   ],
   "source": [
    "new_sum = 0\n",
    "for idx in range(0, len(INPUTS), 3):\n",
    "    group = INPUTS[idx : idx + 3]\n",
    "    badge = get_badge_for_group(*group)\n",
    "    new_sum += get_priority(badge)\n",
    "print(f\"{new_sum=}\")"
   ]
  }
 ],
 "metadata": {
  "kernelspec": {
   "display_name": "Python 3.10.7 ('griceturrble-advent-of-code-8jQN35Cx-py3.10')",
   "language": "python",
   "name": "python3"
  },
  "language_info": {
   "codemirror_mode": {
    "name": "ipython",
    "version": 3
   },
   "file_extension": ".py",
   "mimetype": "text/x-python",
   "name": "python",
   "nbconvert_exporter": "python",
   "pygments_lexer": "ipython3",
   "version": "3.12.1"
  },
  "orig_nbformat": 4,
  "vscode": {
   "interpreter": {
    "hash": "8109129589baacb9b018d855a813e767a198bb1a619405da433ed071dce378e8"
   }
  }
 },
 "nbformat": 4,
 "nbformat_minor": 2
}
