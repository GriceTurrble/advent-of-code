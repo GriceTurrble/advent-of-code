{
 "cells": [
  {
   "attachments": {},
   "cell_type": "markdown",
   "metadata": {},
   "source": [
    "# Day 9 - Rope Bridge\n",
    "\n",
    "https://adventofcode.com/2022/day/9"
   ]
  },
  {
   "cell_type": "code",
   "execution_count": 144,
   "metadata": {},
   "outputs": [],
   "source": [
    "from pathlib import Path\n",
    "\n",
    "INPUTS = Path(\"input.txt\").read_text().strip().split(\"\\n\")"
   ]
  },
  {
   "attachments": {},
   "cell_type": "markdown",
   "metadata": {},
   "source": [
    "## Part 1"
   ]
  },
  {
   "cell_type": "code",
   "execution_count": 145,
   "metadata": {},
   "outputs": [],
   "source": [
    "moves = [x.split() for x in INPUTS]\n",
    "moves_split = [(a, int(b)) for a, b in moves]"
   ]
  },
  {
   "cell_type": "code",
   "execution_count": 146,
   "metadata": {},
   "outputs": [],
   "source": [
    "head, tail = (0, 0), (0, 0)\n",
    "\n",
    "\n",
    "def move_tail(\n",
    "    head: tuple[int, int],\n",
    "    tail: tuple[int, int],\n",
    ") -> tuple[int, int]:\n",
    "    if not max([abs(head[0] - tail[0]), abs(head[1] - tail[1])]) > 1:\n",
    "        # The tail does not move\n",
    "        return tail\n",
    "\n",
    "    new_x, new_y = tail\n",
    "\n",
    "    # If they are in the same column, only the row changes\n",
    "    # If in the same row, only the column changes\n",
    "    # Otherwise, both change\n",
    "    if head[0] > tail[0]:\n",
    "        new_x += 1\n",
    "    elif head[0] < tail[0]:\n",
    "        new_x -= 1\n",
    "\n",
    "    if head[1] > tail[1]:\n",
    "        new_y += 1\n",
    "    elif head[1] < tail[1]:\n",
    "        new_y -= 1\n",
    "    return (new_x, new_y)\n",
    "\n",
    "\n",
    "def solve_part1(moves: list[tuple[str, int]]) -> int:\n",
    "    head, tail = (0, 0), (0, 0)\n",
    "    visited = set()\n",
    "    visited.add(head)\n",
    "    for direction, distance in moves:\n",
    "        for x in range(distance):\n",
    "            if direction == \"L\":\n",
    "                head = head[0] - 1, head[1]\n",
    "            elif direction == \"R\":\n",
    "                head = head[0] + 1, head[1]\n",
    "            elif direction == \"U\":\n",
    "                head = head[0], head[1] + 1\n",
    "            else:  # D\n",
    "                head = head[0], head[1] - 1\n",
    "            tail = move_tail(head=head, tail=tail)\n",
    "            visited.add(tail)\n",
    "    return len(visited)"
   ]
  },
  {
   "cell_type": "code",
   "execution_count": 147,
   "metadata": {},
   "outputs": [
    {
     "name": "stdout",
     "output_type": "stream",
     "text": [
      "result=6030\n"
     ]
    }
   ],
   "source": [
    "result = solve_part1(moves_split)\n",
    "print(f\"{result=}\")"
   ]
  },
  {
   "attachments": {},
   "cell_type": "markdown",
   "metadata": {},
   "source": [
    "## Part 2"
   ]
  },
  {
   "cell_type": "code",
   "execution_count": 148,
   "metadata": {},
   "outputs": [],
   "source": [
    "def move_tails(knots: list[tuple[int, int]]) -> list[tuple[int, int]]:\n",
    "    for i in range(1, len(knots)):\n",
    "        knots[i] = move_tail(knots[i - 1], knots[i])\n",
    "    return knots\n",
    "\n",
    "\n",
    "def solve_part2(moves: list[tuple[str, int]], num_knots: int = 10) -> int:\n",
    "    knots = [(0, 0)] * num_knots\n",
    "    visited = set()\n",
    "    visited.add(knots[0])\n",
    "    for direction, distance in moves:\n",
    "        for x in range(distance):\n",
    "            if direction == \"L\":\n",
    "                knots[0] = (knots[0][0] - 1, knots[0][1])\n",
    "            elif direction == \"R\":\n",
    "                knots[0] = (knots[0][0] + 1, knots[0][1])\n",
    "            elif direction == \"U\":\n",
    "                knots[0] = (knots[0][0], knots[0][1] + 1)\n",
    "            else:  # D\n",
    "                knots[0] = (knots[0][0], knots[0][1] - 1)\n",
    "\n",
    "            knots = move_tails(knots)\n",
    "            visited.add(knots[-1])\n",
    "    return len(visited)"
   ]
  },
  {
   "cell_type": "code",
   "execution_count": 149,
   "metadata": {},
   "outputs": [
    {
     "name": "stdout",
     "output_type": "stream",
     "text": [
      "result2=2545\n"
     ]
    }
   ],
   "source": [
    "result2 = solve_part2(moves_split)\n",
    "print(f\"{result2=}\")"
   ]
  }
 ],
 "metadata": {
  "kernelspec": {
   "display_name": "griceturrble-advent-of-code-8jQN35Cx-py3.10",
   "language": "python",
   "name": "python3"
  },
  "language_info": {
   "codemirror_mode": {
    "name": "ipython",
    "version": 3
   },
   "file_extension": ".py",
   "mimetype": "text/x-python",
   "name": "python",
   "nbconvert_exporter": "python",
   "pygments_lexer": "ipython3",
   "version": "3.10.7"
  },
  "orig_nbformat": 4,
  "vscode": {
   "interpreter": {
    "hash": "8109129589baacb9b018d855a813e767a198bb1a619405da433ed071dce378e8"
   }
  }
 },
 "nbformat": 4,
 "nbformat_minor": 2
}
