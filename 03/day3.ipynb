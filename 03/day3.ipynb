{
 "metadata": {
  "language_info": {
   "codemirror_mode": {
    "name": "ipython",
    "version": 3
   },
   "file_extension": ".py",
   "mimetype": "text/x-python",
   "name": "python",
   "nbconvert_exporter": "python",
   "pygments_lexer": "ipython3",
   "version": "3.9.0-final"
  },
  "orig_nbformat": 2,
  "kernelspec": {
   "name": "python3",
   "display_name": "Python 3"
  }
 },
 "nbformat": 4,
 "nbformat_minor": 2,
 "cells": [
  {
   "source": [
    "# Day 3: Toboggan Trajectory\n",
    "\n",
    "With the toboggan login problems resolved, you set off toward the airport. While travel by toboggan might be easy, it's certainly not safe: there's very minimal steering and the area is covered in trees. You'll need to see which angles will take you near the fewest trees.\n",
    "\n",
    "Due to the local geology, trees in this area only grow on exact integer coordinates in a grid. You make a map (your puzzle input) of the open squares (.) and trees (#) you can see. For example:\n",
    "\n",
    "```\n",
    "..##.......\n",
    "#...#...#..\n",
    ".#....#..#.\n",
    "..#.#...#.#\n",
    ".#...##..#.\n",
    "..#.##.....\n",
    ".#.#.#....#\n",
    ".#........#\n",
    "#.##...#...\n",
    "#...##....#\n",
    ".#..#...#.#\n",
    "```\n",
    "\n",
    "These aren't the only trees, though; due to something you read about once involving arboreal genetics and biome stability, the same pattern repeats to the right many times:\n",
    "\n",
    "```\n",
    "..##.........##.........##.........##.........##.........##.......  --->\n",
    "#...#...#..#...#...#..#...#...#..#...#...#..#...#...#..#...#...#..\n",
    ".#....#..#..#....#..#..#....#..#..#....#..#..#....#..#..#....#..#.\n",
    "..#.#...#.#..#.#...#.#..#.#...#.#..#.#...#.#..#.#...#.#..#.#...#.#\n",
    ".#...##..#..#...##..#..#...##..#..#...##..#..#...##..#..#...##..#.\n",
    "..#.##.......#.##.......#.##.......#.##.......#.##.......#.##.....  --->\n",
    ".#.#.#....#.#.#.#....#.#.#.#....#.#.#.#....#.#.#.#....#.#.#.#....#\n",
    ".#........#.#........#.#........#.#........#.#........#.#........#\n",
    "#.##...#...#.##...#...#.##...#...#.##...#...#.##...#...#.##...#...\n",
    "#...##....##...##....##...##....##...##....##...##....##...##....#\n",
    ".#..#...#.#.#..#...#.#.#..#...#.#.#..#...#.#.#..#...#.#.#..#...#.#  --->\n",
    "```\n",
    "\n",
    "You start on the open square (.) in the top-left corner and need to reach the bottom (below the bottom-most row on your map).\n",
    "\n",
    "The toboggan can only follow a few specific slopes (you opted for a cheaper model that prefers rational numbers); start by counting all the trees you would encounter for the slope right 3, down 1:\n",
    "\n",
    "From your starting position at the top-left, check the position that is right 3 and down 1. Then, check the position that is right 3 and down 1 from there, and so on until you go past the bottom of the map.\n",
    "\n",
    "The locations you'd check in the above example are marked here with O where there was an open square and X where there was a tree:\n",
    "\n",
    "```\n",
    "..##.........##.........##.........##.........##.........##.......  --->\n",
    "#..O#...#..#...#...#..#...#...#..#...#...#..#...#...#..#...#...#..\n",
    ".#....X..#..#....#..#..#....#..#..#....#..#..#....#..#..#....#..#.\n",
    "..#.#...#O#..#.#...#.#..#.#...#.#..#.#...#.#..#.#...#.#..#.#...#.#\n",
    ".#...##..#..X...##..#..#...##..#..#...##..#..#...##..#..#...##..#.\n",
    "..#.##.......#.X#.......#.##.......#.##.......#.##.......#.##.....  --->\n",
    ".#.#.#....#.#.#.#.O..#.#.#.#....#.#.#.#....#.#.#.#....#.#.#.#....#\n",
    ".#........#.#........X.#........#.#........#.#........#.#........#\n",
    "#.##...#...#.##...#...#.X#...#...#.##...#...#.##...#...#.##...#...\n",
    "#...##....##...##....##...#X....##...##....##...##....##...##....#\n",
    ".#..#...#.#.#..#...#.#.#..#...X.#.#..#...#.#.#..#...#.#.#..#...#.#  --->\n",
    "```\n",
    "\n",
    "In this example, traversing the map using this slope would cause you to encounter 7 trees.\n",
    "\n",
    "Starting at the top-left corner of your map and following a slope of right 3 and down 1, how many trees would you encounter?"
   ],
   "cell_type": "markdown",
   "metadata": {}
  },
  {
   "cell_type": "code",
   "execution_count": 14,
   "metadata": {},
   "outputs": [
    {
     "output_type": "stream",
     "name": "stdout",
     "text": [
      "153 trees encountered going 3 right, 1 down.\n"
     ]
    }
   ],
   "source": [
    "from pathlib import Path\n",
    "\n",
    "INPUTS = Path('input.txt').resolve().read_text().strip().split('\\n')\n",
    "TREE = '#'\n",
    "\n",
    "def get_trees_encountered(right, down=1):\n",
    "    \"\"\"For the given INPUTS and the slope determined by right and down,\n",
    "    returns the total number of trees encountered on that slope.\n",
    "    \"\"\"\n",
    "    encountered = 0\n",
    "    pos = 0\n",
    "\n",
    "    # To account for down, use the `step` argument in slice notation for the INPUTS list.\n",
    "    for line in INPUTS[::down]:\n",
    "        # According to instructions, the pattern repeats to the right.\n",
    "        # This means we can take our cumulatively `pos` and wrap it around again.\n",
    "        # To determine that real position, use the cumulative position % (mod)\n",
    "        # the length of that line:\n",
    "        real_pos = pos % len(line)\n",
    "\n",
    "        # Now we can test that position for a tree:\n",
    "        if line[real_pos] == TREE:\n",
    "            encountered += 1\n",
    "        \n",
    "        # To get a cumulative position to the right, we have to keep adding\n",
    "        # the `right` value to our running position.\n",
    "        # As noted above, the \"down\" movement is accounted for by the loop itself\n",
    "        # and the `step` argument of the slice.\n",
    "        pos += right\n",
    "    \n",
    "    return encountered\n",
    "\n",
    "# With that function set up, we can simply return our result:\n",
    "print(f\"{get_trees_encountered(right=3, down=1)} trees encountered going 3 right, 1 down.\")"
   ]
  },
  {
   "source": [
    "## Part 2\n",
    "\n",
    "Time to check the rest of the slopes - you need to minimize the probability of a sudden arboreal stop, after all.\n",
    "\n",
    "Determine the number of trees you would encounter if, for each of the following slopes, you start at the top-left corner and traverse the map all the way to the bottom:\n",
    "\n",
    "- Right 1, down 1.\n",
    "- Right 3, down 1. (This is the slope you already checked.)\n",
    "- Right 5, down 1.\n",
    "- Right 7, down 1.\n",
    "- Right 1, down 2.\n",
    "\n",
    "In the above example, these slopes would find 2, 7, 3, 4, and 2 tree(s) respectively; multiplied together, these produce the answer 336.\n",
    "\n",
    "What do you get if you multiply together the number of trees encountered on each of the listed slopes?"
   ],
   "cell_type": "markdown",
   "metadata": {}
  },
  {
   "cell_type": "code",
   "execution_count": 13,
   "metadata": {},
   "outputs": [
    {
     "output_type": "stream",
     "name": "stdout",
     "text": [
      "66 trees enountered going 1 right, 1 down.\n153 trees enountered going 3 right, 1 down.\n79 trees enountered going 5 right, 1 down.\n92 trees enountered going 7 right, 1 down.\n33 trees enountered going 1 right, 2 down.\n\nMultiplied together, the answer is: 2421944712\n"
     ]
    }
   ],
   "source": [
    "# This essentially uses the same code as the first part, but with multiple slope arguments\n",
    "# and a cumulative product at the end. Simple enough.\n",
    "\n",
    "# Set up the slopes we need as a list of (right, down) tuples\n",
    "slopes = [\n",
    "    (1, 1),\n",
    "    (3, 1),\n",
    "    (5, 1),\n",
    "    (7, 1),\n",
    "    (1, 2),\n",
    "]\n",
    "# Use a base multiplier of 1 that we'll cumulatively *= encountered trees into\n",
    "multiplier = 1\n",
    "\n",
    "# Now, simply iterate on our slopes and calculate them.\n",
    "for right, down in slopes:\n",
    "    encountered = get_trees_encountered(right=right, down=down)\n",
    "    print(f\"{encountered} trees enountered going {right} right, {down} down.\")\n",
    "\n",
    "    # Cumulatively multiply the encountered trees to our total product.\n",
    "    multiplier *= encountered\n",
    "\n",
    "# Now output that product for our final answer.\n",
    "print(f\"\\nMultiplied together, the answer is: {multiplier}\")"
   ]
  }
 ]
}