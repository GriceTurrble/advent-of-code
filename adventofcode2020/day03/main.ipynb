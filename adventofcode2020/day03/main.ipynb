{
 "metadata": {
  "language_info": {
   "codemirror_mode": {
    "name": "ipython",
    "version": 3
   },
   "file_extension": ".py",
   "mimetype": "text/x-python",
   "name": "python",
   "nbconvert_exporter": "python",
   "pygments_lexer": "ipython3",
   "version": "3.9.0-final"
  },
  "orig_nbformat": 2,
  "kernelspec": {
   "name": "python3",
   "display_name": "Python 3"
  }
 },
 "nbformat": 4,
 "nbformat_minor": 2,
 "cells": [
  {
   "source": [
    "# Day 3: Toboggan Trajectory\n",
    "\n",
    "https://adventofcode.com/2020/day/2\n",
    "\n",
    "## Part 1"
   ],
   "cell_type": "markdown",
   "metadata": {}
  },
  {
   "cell_type": "code",
   "execution_count": 14,
   "metadata": {},
   "outputs": [
    {
     "output_type": "stream",
     "name": "stdout",
     "text": [
      "153 trees encountered going 3 right, 1 down.\n"
     ]
    }
   ],
   "source": [
    "from pathlib import Path\n",
    "\n",
    "INPUTS = Path('input.txt').resolve().read_text().strip().split('\\n')\n",
    "TREE = '#'\n",
    "\n",
    "def get_trees_encountered(right, down=1):\n",
    "    \"\"\"For the given INPUTS and the slope determined by right and down,\n",
    "    returns the total number of trees encountered on that slope.\n",
    "    \"\"\"\n",
    "    encountered = 0\n",
    "    pos = 0\n",
    "\n",
    "    # To account for down, use the `step` argument in slice notation for the INPUTS list.\n",
    "    for line in INPUTS[::down]:\n",
    "        # According to instructions, the pattern repeats to the right.\n",
    "        # This means we can take our cumulatively `pos` and wrap it around again.\n",
    "        # To determine that real position, use the cumulative position % (mod)\n",
    "        # the length of that line:\n",
    "        real_pos = pos % len(line)\n",
    "\n",
    "        # Now we can test that position for a tree:\n",
    "        if line[real_pos] == TREE:\n",
    "            encountered += 1\n",
    "        \n",
    "        # To get a cumulative position to the right, we have to keep adding\n",
    "        # the `right` value to our running position.\n",
    "        # As noted above, the \"down\" movement is accounted for by the loop itself\n",
    "        # and the `step` argument of the slice.\n",
    "        pos += right\n",
    "    \n",
    "    return encountered\n",
    "\n",
    "# With that function set up, we can simply return our result:\n",
    "print(f\"{get_trees_encountered(right=3, down=1)} trees encountered going 3 right, 1 down.\")"
   ]
  },
  {
   "source": [
    "## Part 2"
   ],
   "cell_type": "markdown",
   "metadata": {}
  },
  {
   "cell_type": "code",
   "execution_count": 13,
   "metadata": {},
   "outputs": [
    {
     "output_type": "stream",
     "name": "stdout",
     "text": [
      "66 trees enountered going 1 right, 1 down.\n153 trees enountered going 3 right, 1 down.\n79 trees enountered going 5 right, 1 down.\n92 trees enountered going 7 right, 1 down.\n33 trees enountered going 1 right, 2 down.\n\nMultiplied together, the answer is: 2421944712\n"
     ]
    }
   ],
   "source": [
    "# This essentially uses the same code as the first part, but with multiple slope arguments\n",
    "# and a cumulative product at the end. Simple enough.\n",
    "\n",
    "# Set up the slopes we need as a list of (right, down) tuples\n",
    "slopes = [\n",
    "    (1, 1),\n",
    "    (3, 1),\n",
    "    (5, 1),\n",
    "    (7, 1),\n",
    "    (1, 2),\n",
    "]\n",
    "# Use a base multiplier of 1 that we'll cumulatively *= encountered trees into\n",
    "multiplier = 1\n",
    "\n",
    "# Now, simply iterate on our slopes and calculate them.\n",
    "for right, down in slopes:\n",
    "    encountered = get_trees_encountered(right=right, down=down)\n",
    "    print(f\"{encountered} trees enountered going {right} right, {down} down.\")\n",
    "\n",
    "    # Cumulatively multiply the encountered trees to our total product.\n",
    "    multiplier *= encountered\n",
    "\n",
    "# Now output that product for our final answer.\n",
    "print(f\"\\nMultiplied together, the answer is: {multiplier}\")"
   ]
  }
 ]
}