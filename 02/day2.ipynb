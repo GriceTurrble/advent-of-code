{
 "metadata": {
  "language_info": {
   "codemirror_mode": {
    "name": "ipython",
    "version": 3
   },
   "file_extension": ".py",
   "mimetype": "text/x-python",
   "name": "python",
   "nbconvert_exporter": "python",
   "pygments_lexer": "ipython3",
   "version": "3.9.0-final"
  },
  "orig_nbformat": 2,
  "kernelspec": {
   "name": "python3",
   "display_name": "Python 3"
  }
 },
 "nbformat": 4,
 "nbformat_minor": 2,
 "cells": [
  {
   "source": [
    "# Day 2: Password Philosophy\n",
    "\n",
    "Your flight departs in a few days from the coastal airport; the easiest way down to the coast from here is via toboggan.\n",
    "\n",
    "The shopkeeper at the North Pole Toboggan Rental Shop is having a bad day. \"Something's wrong with our computers; we can't log in!\" You ask if you can take a look.\n",
    "\n",
    "Their password database seems to be a little corrupted: some of the passwords wouldn't have been allowed by the Official Toboggan Corporate Policy that was in effect when they were chosen.\n",
    "\n",
    "To try to debug the problem, they have created a list (your puzzle input) of passwords (according to the corrupted database) and the corporate policy when that password was set.\n",
    "\n",
    "For example, suppose you have the following list:\n",
    "\n",
    "1-3 a: abcde\n",
    "1-3 b: cdefg\n",
    "2-9 c: ccccccccc\n",
    "Each line gives the password policy and then the password. The password policy indicates the lowest and highest number of times a given letter must appear for the password to be valid. For example, 1-3 a means that the password must contain a at least 1 time and at most 3 times.\n",
    "\n",
    "In the above example, 2 passwords are valid. The middle password, cdefg, is not; it contains no instances of b, but needs at least 1. The first and third passwords are valid: they contain one a or nine c, both within the limits of their respective policies.\n",
    "\n",
    "How many passwords are valid according to their policies?"
   ],
   "cell_type": "markdown",
   "metadata": {}
  },
  {
   "cell_type": "code",
   "execution_count": 4,
   "metadata": {
    "tags": []
   },
   "outputs": [
    {
     "output_type": "stream",
     "name": "stdout",
     "text": [
      "546 valid passwords found.\n"
     ]
    }
   ],
   "source": [
    "from pathlib import Path\n",
    "import re\n",
    "\n",
    "INPUTS = Path('input.txt').resolve().read_text().strip().split('\\n')\n",
    "\n",
    "# Pattern match lines of the input\n",
    "pattern = re.compile(r\"(?P<min>\\d+)-(?P<max>\\d+)\\s(?P<target>[a-z]):\\s(?P<password>[a-z]+)\")\n",
    "# Pull those matches out\n",
    "matches = [\n",
    "    {\n",
    "        # Convert the min and max keys to int here, just to make things easier.\n",
    "        k: int(v) if k in ('min', 'max') else v\n",
    "        for k, v\n",
    "        in pattern.match(x).groupdict().items()\n",
    "    }\n",
    "    for x in INPUTS\n",
    "]\n",
    "\n",
    "# Start a counter\n",
    "count_valid = 0\n",
    "\n",
    "for match in matches:\n",
    "    # Find number of occurrences of the target character in the password\n",
    "    target_occurrences = len([c for c in match['password'] if c == match['target']])\n",
    "    # Test if that target occurrence falls within the accepted range\n",
    "    if match['min'] <= target_occurrences <= match['max']:\n",
    "        count_valid += 1\n",
    "\n",
    "print(f\"{count_valid} valid passwords found.\")"
   ]
  },
  {
   "source": [
    "## Part 2\n",
    "\n",
    "While it appears you validated the passwords correctly, they don't seem to be what the Official Toboggan Corporate Authentication System is expecting.\n",
    "\n",
    "The shopkeeper suddenly realizes that he just accidentally explained the password policy rules from his old job at the sled rental place down the street! The Official Toboggan Corporate Policy actually works a little differently.\n",
    "\n",
    "Each policy actually describes two positions in the password, where 1 means the first character, 2 means the second character, and so on. (Be careful; Toboggan Corporate Policies have no concept of \"index zero\"!) Exactly one of these positions must contain the given letter. Other occurrences of the letter are irrelevant for the purposes of policy enforcement.\n",
    "\n",
    "Given the same example list from above:\n",
    "\n",
    "1-3 a: abcde is valid: position 1 contains a and position 3 does not.\n",
    "1-3 b: cdefg is invalid: neither position 1 nor position 3 contains b.\n",
    "2-9 c: ccccccccc is invalid: both position 2 and position 9 contain c.\n",
    "How many passwords are valid according to the new interpretation of the policies?"
   ],
   "cell_type": "markdown",
   "metadata": {}
  },
  {
   "cell_type": "code",
   "execution_count": 5,
   "metadata": {},
   "outputs": [
    {
     "output_type": "stream",
     "name": "stdout",
     "text": [
      "275 valid passwords found.\n"
     ]
    }
   ],
   "source": [
    "# We can use all the same contents, but now they mean different things\n",
    "\n",
    "new_count_valid = 0\n",
    "for match in matches:\n",
    "    # Positions in the input are 1-indexed.\n",
    "    # Convert these down to 0-index for brevity\n",
    "    pos1 = match['min'] - 1\n",
    "    pos2 = match['max'] - 1\n",
    "    target = match['target']\n",
    "    password = match['password']\n",
    "    if (password[pos1] == target and password[pos2] != target) or (password[pos1] != target and password[pos2] == target):\n",
    "        new_count_valid += 1\n",
    "\n",
    "print(f\"{new_count_valid} valid passwords found.\")\n"
   ]
  }
 ]
}