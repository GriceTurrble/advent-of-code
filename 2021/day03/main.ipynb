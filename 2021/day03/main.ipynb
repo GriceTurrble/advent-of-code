{
 "cells": [
  {
   "cell_type": "markdown",
   "metadata": {},
   "source": [
    "# Day 3 - Binary Diagnostic\n",
    "\n",
    "https://adventofcode.com/2021/day/3"
   ]
  },
  {
   "cell_type": "code",
   "execution_count": 14,
   "metadata": {},
   "outputs": [],
   "source": [
    "from pathlib import Path\n",
    "\n",
    "INPUTS = Path(\"input.txt\").read_text().strip().split(\"\\n\")\n"
   ]
  },
  {
   "cell_type": "markdown",
   "metadata": {},
   "source": [
    "## Part 1\n",
    "\n",
    "Determining the most common bit in each position of all numbers combined essentially means obtaining counts of those bits across all numbers, but I'd like to be a bit clever this time around.\n",
    "\n",
    "Suppose I transposed all numbers, then sorted the individually transposed columns. After re-transposing, the gamma rate (most common bit) would be equal to whatever number appears halfway in the sequence of inputs, since the \"most common\" when sorted this way would have to cross that threshold."
   ]
  },
  {
   "cell_type": "code",
   "execution_count": 15,
   "metadata": {},
   "outputs": [
    {
     "name": "stdout",
     "output_type": "stream",
     "text": [
      "gamma_binary='110111000111'\n",
      "epsilon_binary='001000111000'\n",
      "gamma_rate=3527\n",
      "epsilon_rate=568\n",
      "power_consumption=2003336\n"
     ]
    }
   ],
   "source": [
    "from typing import Sequence\n",
    "\n",
    "\n",
    "def transpose_matrix(matrix: list[Sequence]) -> list[list]:\n",
    "    \"\"\"Transposes a matrix, so rows become columns and vice versa.\"\"\"\n",
    "    return list(map(list, zip(*matrix)))\n",
    "\n",
    "\n",
    "transposed = transpose_matrix(INPUTS)\n",
    "sorted_transposed = [sorted(x) for x in transposed]\n",
    "resorted = [\"\".join(x) for x in transpose_matrix(sorted_transposed)]\n",
    "\n",
    "# finding the middle sequence in the sorted set should produce our gamma rate\n",
    "gamma_binary = resorted[len(resorted) // 2]\n",
    "print(f\"{gamma_binary=}\")\n",
    "\n",
    "# our epsilon rate is the inverted sequence of the gamma rate (swap 0 for 1 and vice versa)\n",
    "epsilon_binary = \"\".join([\"1\" if x == \"0\" else \"0\" for x in gamma_binary])\n",
    "print(f\"{epsilon_binary=}\")\n",
    "\n",
    "# convert to integer numbers:\n",
    "gamma_rate = int(gamma_binary, base=2)\n",
    "epsilon_rate = int(epsilon_binary, base=2)\n",
    "print(f\"{gamma_rate=}\")\n",
    "print(f\"{epsilon_rate=}\")\n",
    "\n",
    "# Finally, multiply the two together to get power consumption\n",
    "power_consumption = gamma_rate * epsilon_rate\n",
    "print(f\"{power_consumption=}\")\n"
   ]
  },
  {
   "cell_type": "markdown",
   "metadata": {},
   "source": [
    "Turns out, that transposing method worked perfectly. 👍🏻\n",
    "\n",
    "## Part 2\n",
    "\n",
    "This one makes things slightly trickier. It's a very similar methodology as the original, but we have to continually pare down our list of inputs until only one remains, so we can't do the transpose trick again.\n",
    "\n",
    "This time what I'll do is separate inputs into buckets based on the bit being checked. Whichever bucket fits the criteria goes on to a new round of sorting until a bucket is checked with only a single string."
   ]
  },
  {
   "cell_type": "code",
   "execution_count": 23,
   "metadata": {},
   "outputs": [
    {
     "name": "stdout",
     "output_type": "stream",
     "text": [
      "oxy_binary='100111110011'\n",
      "co2_binary='001011100001'\n",
      "oxy_rate=2547\n",
      "co2_rate=737\n",
      "life_support=1877139\n"
     ]
    }
   ],
   "source": [
    "def reduce_by_bit_commonality(\n",
    "    bucket: list[str],\n",
    "    most_common: bool = True,\n",
    "    pos: int = 0,\n",
    ") -> str:\n",
    "    if not bucket:\n",
    "        raise ValueError(\"Can't find anything in an empty bucket\")\n",
    "    if len(bucket) == 1:\n",
    "        # Final answer!\n",
    "        return bucket[0]\n",
    "\n",
    "    bucket_ones = []\n",
    "    bucket_zeroes = []\n",
    "    for num in bucket:\n",
    "        # Filter values from the bucket into the ones or zeroes\n",
    "        # based on the content of the selected bit\n",
    "        match num[pos]:\n",
    "            case '1':\n",
    "                bucket_ones.append(num)\n",
    "            case '0':\n",
    "                bucket_zeroes.append(num)\n",
    "    if most_common:\n",
    "        # Prefer the 1s if lengths are equal; otherwise select largest bucket\n",
    "        new_bucket = bucket_ones if len(bucket_ones) >= len(bucket_zeroes) else bucket_zeroes\n",
    "    else:\n",
    "        # Prefer the 0s if lengths are equal; otherwise select smallest bucket\n",
    "        new_bucket = bucket_zeroes if len(bucket_zeroes) <= len(bucket_ones) else bucket_ones\n",
    "    \n",
    "    # recurse with the selected bucket in the next bit position (pos + 1)\n",
    "    return reduce_by_bit_commonality(new_bucket, most_common=most_common, pos=pos+1)\n",
    "\n",
    "oxy_binary = reduce_by_bit_commonality(INPUTS, most_common=True)\n",
    "co2_binary = reduce_by_bit_commonality(INPUTS, most_common=False)\n",
    "print(f\"{oxy_binary=}\")\n",
    "print(f\"{co2_binary=}\")\n",
    "\n",
    "# convert to integers\n",
    "oxy_rate = int(oxy_binary, base=2)\n",
    "co2_rate = int(co2_binary, base=2)\n",
    "print(f\"{oxy_rate=}\")\n",
    "print(f\"{co2_rate=}\")\n",
    "\n",
    "# and get our final life_support answer by multiplying\n",
    "life_support = oxy_rate * co2_rate\n",
    "print(f\"{life_support=}\")\n"
   ]
  }
 ],
 "metadata": {
  "interpreter": {
   "hash": "e7f838db54ad0012221f0814f3d2887e05cb79f425c36b1945307b340711ff35"
  },
  "kernelspec": {
   "display_name": "Python 3.10.0 64-bit ('advent-of-code-JVQZr3dM': pipenv)",
   "language": "python",
   "name": "python3"
  },
  "language_info": {
   "codemirror_mode": {
    "name": "ipython",
    "version": 3
   },
   "file_extension": ".py",
   "mimetype": "text/x-python",
   "name": "python",
   "nbconvert_exporter": "python",
   "pygments_lexer": "ipython3",
   "version": "3.10.0"
  },
  "orig_nbformat": 4
 },
 "nbformat": 4,
 "nbformat_minor": 2
}
