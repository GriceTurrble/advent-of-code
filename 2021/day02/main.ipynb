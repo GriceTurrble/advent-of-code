{
 "cells": [
  {
   "cell_type": "markdown",
   "metadata": {},
   "source": [
    "# Day 2 - Dive!\n",
    "\n",
    "https://adventofcode.com/2021/day/2"
   ]
  },
  {
   "cell_type": "code",
   "execution_count": 12,
   "metadata": {},
   "outputs": [],
   "source": [
    "# Start by ingesting out inputs first, as always\n",
    "from pathlib import Path\n",
    "from typing import Generator\n",
    "\n",
    "INPUTS = Path(\"input.txt\").resolve().read_text().strip().split(\"\\n\")\n",
    "\n",
    "\n",
    "def commands() -> Generator[tuple[str, int], None, None]:\n",
    "    \"\"\"A generator yielding tuples of `(direction, amount)` from the set of inputs,\n",
    "    where `direction` is the string command for the input line\n",
    "    and `amount` is the integer number on that same line.\n",
    "    \"\"\"\n",
    "    for line in INPUTS:\n",
    "        direction, amount = line.split()\n",
    "        yield direction, int(amount)"
   ]
  },
  {
   "cell_type": "markdown",
   "metadata": {},
   "source": [
    "## Part 1\n",
    "\n",
    "Fairly straightforward approach here:\n",
    "\n",
    "1. iterate through all inputs,\n",
    "2. split up the direction and the amount of that direction\n",
    "3. add up the horizontal position for all \"forward\" directions OR add or subtract from `depth` for any \"up\" or \"down\" directions\n",
    "\n",
    "At the end, just multiply those two numbers and we're done."
   ]
  },
  {
   "cell_type": "code",
   "execution_count": 13,
   "metadata": {},
   "outputs": [
    {
     "name": "stdout",
     "output_type": "stream",
     "text": [
      "Answer: 1698735\n"
     ]
    }
   ],
   "source": [
    "position, depth = 0, 0\n",
    "for direction, amount in commands():\n",
    "    if direction == \"forward\":\n",
    "        position += amount\n",
    "    elif direction == \"down\":\n",
    "        depth += amount\n",
    "    else:\n",
    "        depth -= amount\n",
    "\n",
    "print(f\"Answer: {position * depth}\")"
   ]
  },
  {
   "cell_type": "markdown",
   "metadata": {},
   "source": [
    "## Part 2\n",
    "\n",
    "This adds a little complication, but the approach is generally the same. Now we just track an `aim` component while (re)iterating through the inputs, and make new calculations based on the directions given."
   ]
  },
  {
   "cell_type": "code",
   "execution_count": 14,
   "metadata": {},
   "outputs": [
    {
     "name": "stdout",
     "output_type": "stream",
     "text": [
      "Answer: 1594785890\n"
     ]
    }
   ],
   "source": [
    "position, depth, aim = 0, 0, 0\n",
    "for direction, amount in commands():\n",
    "    if direction == \"down\":\n",
    "        aim += amount\n",
    "    elif direction == \"up\":\n",
    "        aim -= amount\n",
    "    else:\n",
    "        position += amount\n",
    "        depth += aim * amount\n",
    "\n",
    "print(f\"Answer: {position * depth}\")"
   ]
  }
 ],
 "metadata": {
  "interpreter": {
   "hash": "e7f838db54ad0012221f0814f3d2887e05cb79f425c36b1945307b340711ff35"
  },
  "kernelspec": {
   "display_name": "Python 3.10.0 64-bit ('advent-of-code-JVQZr3dM': pipenv)",
   "language": "python",
   "name": "python3"
  },
  "language_info": {
   "codemirror_mode": {
    "name": "ipython",
    "version": 3
   },
   "file_extension": ".py",
   "mimetype": "text/x-python",
   "name": "python",
   "nbconvert_exporter": "python",
   "pygments_lexer": "ipython3",
   "version": "3.10.0"
  },
  "orig_nbformat": 4
 },
 "nbformat": 4,
 "nbformat_minor": 2
}
