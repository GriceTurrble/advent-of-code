{
 "cells": [
  {
   "cell_type": "markdown",
   "metadata": {},
   "source": [
    "# Day 2 - Dive!\n",
    "\n",
    "https://adventofcode.com/2021/day/2"
   ]
  },
  {
   "cell_type": "code",
   "execution_count": 1,
   "metadata": {},
   "outputs": [],
   "source": [
    "# Start by ingesting out inputs first, as always\n",
    "from pathlib import Path\n",
    "\n",
    "INPUTS = Path('input.txt').resolve().read_text().strip().split('\\n')"
   ]
  },
  {
   "cell_type": "markdown",
   "metadata": {},
   "source": [
    "## Part 1\n",
    "\n",
    "Fairly straightforward approach here:\n",
    "\n",
    "1. iterate through all inputs,\n",
    "2. split up the direction and the amount of that direction\n",
    "3. add up the horizontal position for all \"forward\" directions OR add or subtract from `depth` for any \"up\" or \"down\" directions\n",
    "\n",
    "At the end, just multiply those two numbers and we're done."
   ]
  },
  {
   "cell_type": "code",
   "execution_count": 2,
   "metadata": {},
   "outputs": [
    {
     "name": "stdout",
     "output_type": "stream",
     "text": [
      "answer=1698735\n"
     ]
    }
   ],
   "source": [
    "forward_total, depth = 0, 0\n",
    "for line in INPUTS:\n",
    "    direction, amount = line.split()\n",
    "    amount = int(amount)\n",
    "    if direction == 'forward':\n",
    "        forward_total += amount\n",
    "    elif direction == 'down':\n",
    "        depth += amount\n",
    "    else:\n",
    "        depth -= amount\n",
    "\n",
    "answer = forward_total * depth\n",
    "print(f\"{answer=}\")"
   ]
  },
  {
   "cell_type": "markdown",
   "metadata": {},
   "source": [
    "## Part 2\n",
    "\n",
    "This adds a little complication, but the approach is generally the same. Now we just track an `aim` component while (re)iterating through the inputs, and make new calculations based on the directions given."
   ]
  },
  {
   "cell_type": "code",
   "execution_count": 3,
   "metadata": {},
   "outputs": [
    {
     "name": "stdout",
     "output_type": "stream",
     "text": [
      "new_answer=1594785890\n"
     ]
    }
   ],
   "source": [
    "new_position, new_depth, aim = 0, 0, 0\n",
    "for line in INPUTS:\n",
    "    direction, amount = line.split()\n",
    "    amount = int(amount)\n",
    "    if direction == 'down':\n",
    "        aim += amount\n",
    "    elif direction == 'up':\n",
    "        aim -= amount\n",
    "    else:\n",
    "        new_position += amount\n",
    "        new_depth += aim * amount\n",
    "\n",
    "new_answer = new_position * new_depth\n",
    "print(f\"{new_answer=}\")"
   ]
  }
 ],
 "metadata": {
  "interpreter": {
   "hash": "e7f838db54ad0012221f0814f3d2887e05cb79f425c36b1945307b340711ff35"
  },
  "kernelspec": {
   "display_name": "Python 3.10.0 64-bit ('advent-of-code-JVQZr3dM': pipenv)",
   "language": "python",
   "name": "python3"
  },
  "language_info": {
   "codemirror_mode": {
    "name": "ipython",
    "version": 3
   },
   "file_extension": ".py",
   "mimetype": "text/x-python",
   "name": "python",
   "nbconvert_exporter": "python",
   "pygments_lexer": "ipython3",
   "version": "3.10.0"
  },
  "orig_nbformat": 4
 },
 "nbformat": 4,
 "nbformat_minor": 2
}
