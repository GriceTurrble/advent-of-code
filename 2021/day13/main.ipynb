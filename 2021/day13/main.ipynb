{
 "cells": [
  {
   "cell_type": "markdown",
   "metadata": {},
   "source": [
    "# Day 13 - Transparent Origami\n",
    "\n",
    "https://adventofcode.com/2021/day/13"
   ]
  },
  {
   "cell_type": "code",
   "execution_count": 43,
   "metadata": {},
   "outputs": [],
   "source": [
    "from pathlib import Path\n",
    "\n",
    "INPUTS = Path(\"input.txt\").read_text().strip()\n",
    "\n",
    "# Separate the inputs into the set of coordinates and the fold instructions\n",
    "COORDINATES, folds = INPUTS.split(\"\\n\\n\")\n",
    "\n",
    "# Process the coordinates into tuples of integers representing (X, Y)\n",
    "COORDINATES = [tuple(map(int, x.split(\",\"))) for x in COORDINATES.split(\"\\n\")]\n",
    "\n",
    "# Process the folds into tuples of (axis, num)\n",
    "FOLDS = []\n",
    "for fold in folds.split(\"\\n\"):\n",
    "    instruction = fold[11:]\n",
    "    axis, num = instruction.split(\"=\")\n",
    "    FOLDS.append((axis, int(num)))"
   ]
  },
  {
   "cell_type": "markdown",
   "metadata": {},
   "source": [
    "## Part 1\n",
    "\n",
    "For this first step, we just need to know the number of visible points after the first fold. I'm choosing to do so using sets to eliminate duplicate points, and then just count the length.\n",
    "\n",
    "The trick will be processing each point by assessing whether it is above/left or below/right of the fold, then adjusting its \"folded\" coordinates to match. That way, folded coordinates will be added to the fold set and eliminated if they are duplicates of another set."
   ]
  },
  {
   "cell_type": "code",
   "execution_count": 44,
   "metadata": {},
   "outputs": [],
   "source": [
    "def fold_coords(\n",
    "    inputs: list[tuple[int, int]],\n",
    "    axis: str,\n",
    "    num: int,\n",
    ") -> list[tuple[int, int]]:\n",
    "    new_coords = set()\n",
    "    for coord_x, coord_y in inputs:\n",
    "        new_x, new_y = coord_x, coord_y\n",
    "        if axis == \"y\" and new_y > num:\n",
    "            # Adjust the new Y to be above the fold\n",
    "            new_y -= (new_y - num) * 2\n",
    "        elif axis == \"x\" and new_x > num:\n",
    "            # Adjust the new X to be left of the fold\n",
    "            new_x -= (new_x - num) * 2\n",
    "        new_coords.add((new_x, new_y))\n",
    "    return list(new_coords)"
   ]
  },
  {
   "cell_type": "markdown",
   "metadata": {},
   "source": [
    "Some testing using the examples from the site shows some plots small enough that I can guess they're accurate, without actually plotting them to see their output yet."
   ]
  },
  {
   "cell_type": "code",
   "execution_count": 45,
   "metadata": {},
   "outputs": [],
   "source": [
    "def test_fold_coords():\n",
    "    coords = [\n",
    "        (6, 10),\n",
    "        (0, 14),\n",
    "        (9, 10),\n",
    "        (0, 3),\n",
    "        (10, 4),\n",
    "        (4, 11),\n",
    "        (6, 0),\n",
    "        (6, 12),\n",
    "        (4, 1),\n",
    "        (0, 13),\n",
    "        (10, 12),\n",
    "        (3, 4),\n",
    "        (3, 0),\n",
    "        (8, 4),\n",
    "        (1, 10),\n",
    "        (2, 14),\n",
    "        (8, 10),\n",
    "        (9, 0),\n",
    "    ]\n",
    "    new_coords = fold_coords(inputs=coords, axis=\"y\", num=7)\n",
    "    expected = [\n",
    "        (0, 0),\n",
    "        (0, 1),\n",
    "        (0, 3),\n",
    "        (1, 4),\n",
    "        (2, 0),\n",
    "        (3, 0),\n",
    "        (3, 4),\n",
    "        (4, 1),\n",
    "        (4, 3),\n",
    "        (6, 0),\n",
    "        (6, 2),\n",
    "        (6, 4),\n",
    "        (8, 4),\n",
    "        (9, 0),\n",
    "        (9, 4),\n",
    "        (10, 2),\n",
    "        (10, 4),\n",
    "    ]\n",
    "    assert sorted(new_coords) == expected\n",
    "\n",
    "    new_coords2 = fold_coords(inputs=new_coords, axis=\"x\", num=5)\n",
    "    expected2 = [\n",
    "        (0, 0),\n",
    "        (0, 1),\n",
    "        (0, 2),\n",
    "        (0, 3),\n",
    "        (0, 4),\n",
    "        (1, 0),\n",
    "        (1, 4),\n",
    "        (2, 0),\n",
    "        (2, 4),\n",
    "        (3, 0),\n",
    "        (3, 4),\n",
    "        (4, 0),\n",
    "        (4, 1),\n",
    "        (4, 2),\n",
    "        (4, 3),\n",
    "        (4, 4),\n",
    "    ]\n",
    "    assert sorted(new_coords2) == expected2\n",
    "\n",
    "\n",
    "test_fold_coords()"
   ]
  },
  {
   "cell_type": "markdown",
   "metadata": {},
   "source": [
    "Now to get our solution, the number of coordinates visible after a single fold."
   ]
  },
  {
   "cell_type": "code",
   "execution_count": 46,
   "metadata": {},
   "outputs": [
    {
     "name": "stdout",
     "output_type": "stream",
     "text": [
      "802\n"
     ]
    }
   ],
   "source": [
    "axis, num = FOLDS[0]\n",
    "new_coords = fold_coords(inputs=COORDINATES, axis=axis, num=num)\n",
    "print(len(new_coords))"
   ]
  },
  {
   "cell_type": "markdown",
   "metadata": {},
   "source": [
    "## Part 2\n",
    "\n",
    "Performing all the folds now should be trivial, but then we have to actually print the thing and see what the output looks like.\n",
    "\n",
    "First things first, got to get the set of coordinates after all the folds are done."
   ]
  },
  {
   "cell_type": "code",
   "execution_count": 47,
   "metadata": {},
   "outputs": [],
   "source": [
    "from copy import deepcopy\n",
    "\n",
    "coords = deepcopy(COORDINATES)\n",
    "for axis, num in FOLDS:\n",
    "    coords = fold_coords(inputs=coords, axis=axis, num=num)\n",
    "\n",
    "final_coords = coords"
   ]
  },
  {
   "cell_type": "markdown",
   "metadata": {},
   "source": [
    "Then we can get our output from those coordinates."
   ]
  },
  {
   "cell_type": "code",
   "execution_count": 48,
   "metadata": {},
   "outputs": [
    {
     "name": "stdout",
     "output_type": "stream",
     "text": [
      "###  #  # #  # #### ####  ##  #  # ### \n",
      "#  # # #  #  # #       # #  # #  # #  #\n",
      "#  # ##   #### ###    #  #    #  # ### \n",
      "###  # #  #  # #     #   # ## #  # #  #\n",
      "# #  # #  #  # #    #    #  # #  # #  #\n",
      "#  # #  # #  # #    ####  ###  ##  ### \n"
     ]
    }
   ],
   "source": [
    "def coord_plot(coords: list[tuple[int, int]]) -> str:\n",
    "    max_x = max([x[0] for x in coords])\n",
    "    max_y = max([x[1] for x in coords])\n",
    "\n",
    "    output = []\n",
    "    # The coordinates include the max, so add 1 to it on each loop,\n",
    "    # or we'll be missing a line below and to the right (and won't be able to read it!)\n",
    "    for y in range(max_y + 1):\n",
    "        line = \"\"\n",
    "        for x in range(max_x + 1):\n",
    "            char = \" \"\n",
    "            if (x, y) in coords:\n",
    "                char = \"#\"\n",
    "            line += char\n",
    "        output.append(line)\n",
    "    return \"\\n\".join(output)\n",
    "\n",
    "\n",
    "plot = coord_plot(final_coords)\n",
    "print(plot)"
   ]
  },
  {
   "cell_type": "markdown",
   "metadata": {},
   "source": [
    "Looks to me like \"RKHFZGUB\", and the site says that's correct. Woot!"
   ]
  }
 ],
 "metadata": {
  "interpreter": {
   "hash": "e7f838db54ad0012221f0814f3d2887e05cb79f425c36b1945307b340711ff35"
  },
  "kernelspec": {
   "display_name": "Python 3.10.1 64-bit ('advent-of-code-JVQZr3dM': pipenv)",
   "language": "python",
   "name": "python3"
  },
  "language_info": {
   "codemirror_mode": {
    "name": "ipython",
    "version": 3
   },
   "file_extension": ".py",
   "mimetype": "text/x-python",
   "name": "python",
   "nbconvert_exporter": "python",
   "pygments_lexer": "ipython3",
   "version": "3.10.1"
  },
  "orig_nbformat": 4
 },
 "nbformat": 4,
 "nbformat_minor": 2
}
