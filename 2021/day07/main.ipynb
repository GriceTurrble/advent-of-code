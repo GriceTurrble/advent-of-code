{
 "cells": [
  {
   "cell_type": "markdown",
   "metadata": {},
   "source": [
    "# Day 7 - The Treachery of Whales\n",
    "\n",
    "https://adventofcode.com/2021/day/7"
   ]
  },
  {
   "cell_type": "code",
   "execution_count": 3,
   "metadata": {},
   "outputs": [],
   "source": [
    "from pathlib import Path\n",
    "\n",
    "INPUTS = list(map(int, Path(\"input.txt\").read_text().strip().split(\",\")))"
   ]
  },
  {
   "cell_type": "markdown",
   "metadata": {},
   "source": [
    "## Part 1\n",
    "\n",
    "Calculating the fuel needs for moving from one position to a target is as simple as absolute value of that position `x` minus that target. And, getting the fuel costs for every \"submarine\" in the set is just a sum of all those absolute values.\n",
    "\n",
    "Thus, calculating the minimum fuel cost in a brute force manner, we just calculate all those different fuel costs and find our minimum."
   ]
  },
  {
   "cell_type": "code",
   "execution_count": 7,
   "metadata": {},
   "outputs": [
    {
     "name": "stdout",
     "output_type": "stream",
     "text": [
      "Minimum fuel costs: 355592\n",
      "That position: 349\n"
     ]
    }
   ],
   "source": [
    "def calc_fuel_constant(positions: list[int], target: int) -> int:\n",
    "    return sum([abs(x - target) for x in positions])\n",
    "\n",
    "\n",
    "all_fuels = [calc_fuel_constant(INPUTS, x) for x in range(len(INPUTS))]\n",
    "min_fuel = min(all_fuels)\n",
    "min_pos = all_fuels.index(min_fuel)\n",
    "print(f\"Minimum fuel costs: {min_fuel}\")\n",
    "print(f\"That position: {min_pos}\")"
   ]
  },
  {
   "cell_type": "markdown",
   "metadata": {},
   "source": [
    "## Part 2\n",
    "\n",
    "This one's trickier, but we just need to make a new function to calculate our fuel needs for a given target."
   ]
  },
  {
   "cell_type": "code",
   "execution_count": 8,
   "metadata": {},
   "outputs": [
    {
     "name": "stdout",
     "output_type": "stream",
     "text": [
      "Minimum fuel costs: 101618069\n",
      "That position: 488\n"
     ]
    }
   ],
   "source": [
    "def fuel_cost(start: int, end: int) -> int:\n",
    "    distance = abs(start - end)\n",
    "    return sum(range(1, distance + 1))\n",
    "\n",
    "\n",
    "def calc_fuel_summed(positions: list[int], target: int) -> int:\n",
    "    return sum([fuel_cost(x, target) for x in positions])\n",
    "\n",
    "\n",
    "all_fuels = [calc_fuel_summed(INPUTS, x) for x in range(len(INPUTS))]\n",
    "min_fuel = min(all_fuels)\n",
    "min_pos = all_fuels.index(min_fuel)\n",
    "print(f\"Minimum fuel costs: {min_fuel}\")\n",
    "print(f\"That position: {min_pos}\")"
   ]
  },
  {
   "cell_type": "markdown",
   "metadata": {},
   "source": [
    "Not the most efficient algorithm, but it works for our current needs. 👍🏻"
   ]
  }
 ],
 "metadata": {
  "interpreter": {
   "hash": "e7f838db54ad0012221f0814f3d2887e05cb79f425c36b1945307b340711ff35"
  },
  "kernelspec": {
   "display_name": "Python 3.10.0 64-bit ('advent-of-code-JVQZr3dM': pipenv)",
   "language": "python",
   "name": "python3"
  },
  "language_info": {
   "codemirror_mode": {
    "name": "ipython",
    "version": 3
   },
   "file_extension": ".py",
   "mimetype": "text/x-python",
   "name": "python",
   "nbconvert_exporter": "python",
   "pygments_lexer": "ipython3",
   "version": "3.10.0"
  },
  "orig_nbformat": 4
 },
 "nbformat": 4,
 "nbformat_minor": 2
}
