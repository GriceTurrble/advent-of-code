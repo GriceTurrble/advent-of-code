{
 "cells": [
  {
   "cell_type": "markdown",
   "metadata": {},
   "source": [
    "# Day 1 - Sonar Sweep\n",
    "\n",
    "https://adventofcode.com/2021/day/1\n",
    "\n",
    "## Part 1"
   ]
  },
  {
   "cell_type": "code",
   "execution_count": 5,
   "metadata": {},
   "outputs": [],
   "source": [
    "from pathlib import Path\n",
    "\n",
    "INPUTS = Path('input.txt').resolve().read_text().strip().split('\\n')\n",
    "INPUTS = [int(x) for x in INPUTS]"
   ]
  },
  {
   "cell_type": "code",
   "execution_count": 6,
   "metadata": {},
   "outputs": [
    {
     "name": "stdout",
     "output_type": "stream",
     "text": [
      "Number of increases from previous: 1292\n"
     ]
    }
   ],
   "source": [
    "running_total = 0\n",
    "for i in range(1, len(INPUTS)):\n",
    "    # Starting from the *2nd* value, compare i to each prior value,\n",
    "    # then add one to the running total if it's greater.\n",
    "    if INPUTS[i] > INPUTS[i-1]:\n",
    "        running_total += 1\n",
    "\n",
    "print(f\"Number of increases from previous: {running_total}\")"
   ]
  },
  {
   "cell_type": "markdown",
   "metadata": {},
   "source": [
    "## Part 2"
   ]
  },
  {
   "cell_type": "code",
   "execution_count": 8,
   "metadata": {},
   "outputs": [
    {
     "name": "stdout",
     "output_type": "stream",
     "text": [
      "Number of increases in three-measure sums: 1262\n"
     ]
    }
   ],
   "source": [
    "running_triple_total = 0\n",
    "for i in range(1, len(INPUTS)-2):\n",
    "    # To sum sets of three, stop three elements from the end of the sequence\n",
    "    # (range is not inclusive at the end of the sequence)\n",
    "    # Then we just `sum()` slices of the INPUTS as needed:\n",
    "    # - from the element prior to the next two elements after; and\n",
    "    # - from the current element to the next three\n",
    "    # Again with slices, `i+3` at the end of the slice is not inclusive,\n",
    "    # i.e. [1:1+3] = [1:4] = three elements (2nd, 3rd, 4th)\n",
    "    sum_a = sum(INPUTS[i-1:i+2])\n",
    "    sum_b = sum(INPUTS[i:i+3])\n",
    "    if sum_b > sum_a:\n",
    "        running_triple_total += 1\n",
    "\n",
    "print(f\"Number of increases in three-measure sums: {running_triple_total}\")"
   ]
  }
 ],
 "metadata": {
  "interpreter": {
   "hash": "2be5faf79681da6f2a61fdfdd5405d65d042280f7fba6178067603e3a2925119"
  },
  "kernelspec": {
   "display_name": "Python 3.10.0 64-bit",
   "language": "python",
   "name": "python3"
  },
  "language_info": {
   "codemirror_mode": {
    "name": "ipython",
    "version": 3
   },
   "file_extension": ".py",
   "mimetype": "text/x-python",
   "name": "python",
   "nbconvert_exporter": "python",
   "pygments_lexer": "ipython3",
   "version": "3.10.0"
  },
  "orig_nbformat": 4
 },
 "nbformat": 4,
 "nbformat_minor": 2
}
