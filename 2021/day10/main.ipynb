{
 "cells": [
  {
   "cell_type": "markdown",
   "metadata": {},
   "source": [
    "# Day 10 - Syntax Scoring\n",
    "\n",
    "https://adventofcode.com/2021/day/10"
   ]
  },
  {
   "cell_type": "code",
   "execution_count": 10,
   "metadata": {},
   "outputs": [],
   "source": [
    "from pathlib import Path\n",
    "\n",
    "INPUTS = Path(\"input.txt\").read_text().strip().split(\"\\n\")\n",
    "\n",
    "OPENCLOSE = {\n",
    "    \"(\": \")\",\n",
    "    \"[\": \"]\",\n",
    "    \"{\": \"}\",\n",
    "    \"<\": \">\",\n",
    "}"
   ]
  },
  {
   "cell_type": "markdown",
   "metadata": {},
   "source": [
    "## Part 1\n",
    "\n",
    "Finding the first illegal character is relatively simple if we just use a stack:\n",
    "\n",
    "- Go through the line one character at a time.\n",
    "- For each opening char, append its expected closing char to the stack.\n",
    "- For each closing char, pop the stack to get the one we expected to find. If they don't match, the line is illegal, and we simply return the unexpected char.\n",
    "- If we hit the end without finding any problems, explicitly return `None` to indicate there are no issues."
   ]
  },
  {
   "cell_type": "code",
   "execution_count": 11,
   "metadata": {},
   "outputs": [],
   "source": [
    "def first_illegal(line: str) -> str | None:\n",
    "    \"\"\"If the given line is corrupted, returns the first illegal character encountered.\n",
    "\n",
    "    If the line is legal, returns None, instead.\n",
    "    \"\"\"\n",
    "    close_stack = []\n",
    "    for char in line:\n",
    "        if char in OPENCLOSE.keys():\n",
    "            close_stack.append(OPENCLOSE[char])\n",
    "        else:\n",
    "            expected = close_stack.pop()\n",
    "            if expected != char:\n",
    "                return char\n",
    "    return None\n",
    "\n",
    "\n",
    "def test_first_illegal():\n",
    "    # Example corrupted lines as given by the AoC site.\n",
    "    assert first_illegal(\"{([(<{}[<>[]}>{[]{[(<()>\") == \"}\"\n",
    "    assert first_illegal(\"[[<[([]))<([[{}[[()]]]\") == \")\"\n",
    "    assert first_illegal(\"[{[{({}]{}}([{[{{{}}([]\") == \"]\"\n",
    "    assert first_illegal(\"[<(<(<(<{}))><([]([]()\") == \")\"\n",
    "    assert first_illegal(\"<{([([[(<>()){}]>(<<{{\") == \">\"\n",
    "\n",
    "    # Following is an incomplete line, which should not show as corrupted\n",
    "    assert first_illegal(\"[({(<(())[]>[[{[]{<()<>>\") is None\n",
    "\n",
    "\n",
    "test_first_illegal()"
   ]
  },
  {
   "cell_type": "markdown",
   "metadata": {},
   "source": [
    "Easy enough. Now to the scoring element to find our solution"
   ]
  },
  {
   "cell_type": "code",
   "execution_count": 12,
   "metadata": {},
   "outputs": [
    {
     "name": "stdout",
     "output_type": "stream",
     "text": [
      "Syntax error score: 341823\n"
     ]
    }
   ],
   "source": [
    "ILLEGAL_POINTS = {\n",
    "    \")\": 3,\n",
    "    \"]\": 57,\n",
    "    \"}\": 1197,\n",
    "    \">\": 25137,\n",
    "}\n",
    "\n",
    "point_value = 0\n",
    "for line in INPUTS:\n",
    "    char = first_illegal(line)\n",
    "    if char is not None:\n",
    "        point_value += ILLEGAL_POINTS[char]\n",
    "\n",
    "print(f\"Syntax error score: {point_value}\")"
   ]
  },
  {
   "cell_type": "markdown",
   "metadata": {},
   "source": [
    "## Part 2\n",
    "\n",
    "Going to take the same logical approach here, but invert it slightly. I just need to exit fast when there are syntax errors, and return the remaining closing stack in all other cases."
   ]
  },
  {
   "cell_type": "code",
   "execution_count": 13,
   "metadata": {},
   "outputs": [],
   "source": [
    "def autocomplete(line: str) -> str | None:\n",
    "    close_stack = []\n",
    "    for char in line:\n",
    "        if char in OPENCLOSE.keys():\n",
    "            close_stack.append(OPENCLOSE[char])\n",
    "        else:\n",
    "            expected = close_stack.pop()\n",
    "            if expected != char:\n",
    "                return None\n",
    "    # The closing stack we operate on above is inverted: the innermost closing char\n",
    "    # comes last. So, we need to reverse it before returning, which is easily done by\n",
    "    # reverse slice: [::-1]\n",
    "    return \"\".join(close_stack[::-1])\n",
    "\n",
    "\n",
    "def test_autocomplete():\n",
    "    assert autocomplete(\"[({(<(())[]>[[{[]{<()<>>\") == \"}}]])})]\"\n",
    "    assert autocomplete(\"[(()[<>])]({[<{<<[]>>(\") == \")}>]})\"\n",
    "    assert autocomplete(\"(((({<>}<{<{<>}{[]{[]{}\") == \"}}>}>))))\"\n",
    "    assert autocomplete(\"{<[[]]>}<{[{[{[]{()[[[]\") == \"]]}}]}]}>\"\n",
    "    assert autocomplete(\"<{([{{}}[<[[[<>{}]]]>[]]\") == \"])}>\"\n",
    "\n",
    "\n",
    "test_autocomplete()"
   ]
  },
  {
   "cell_type": "markdown",
   "metadata": {},
   "source": [
    "Easy peasy. Now to the scoring algorithm."
   ]
  },
  {
   "cell_type": "code",
   "execution_count": 14,
   "metadata": {},
   "outputs": [
    {
     "name": "stdout",
     "output_type": "stream",
     "text": [
      "Median score: 2801302861\n"
     ]
    }
   ],
   "source": [
    "AUTOCOMPLETE_POINTS = {\n",
    "    \")\": 1,\n",
    "    \"]\": 2,\n",
    "    \"}\": 3,\n",
    "    \">\": 4,\n",
    "}\n",
    "\n",
    "\n",
    "def score_for_autocompletion(section: str) -> int:\n",
    "    score = 0\n",
    "    for char in section:\n",
    "        score *= 5\n",
    "        score += AUTOCOMPLETE_POINTS[char]\n",
    "    return score\n",
    "\n",
    "\n",
    "scores = []\n",
    "for line in INPUTS:\n",
    "    completion = autocomplete(line)\n",
    "    if completion is not None:\n",
    "        scores.append(score_for_autocompletion(completion))\n",
    "\n",
    "# As stated, the final score is the median one:\n",
    "scores = sorted(scores)\n",
    "median = scores[len(scores) // 2]\n",
    "\n",
    "print(f\"Median score: {median}\")"
   ]
  },
  {
   "cell_type": "markdown",
   "metadata": {},
   "source": [
    "Certainly an easier problem than the previous day, at least for my tastes. 😊"
   ]
  }
 ],
 "metadata": {
  "interpreter": {
   "hash": "e7f838db54ad0012221f0814f3d2887e05cb79f425c36b1945307b340711ff35"
  },
  "kernelspec": {
   "display_name": "Python 3.10.0 64-bit ('advent-of-code-JVQZr3dM': pipenv)",
   "language": "python",
   "name": "python3"
  },
  "language_info": {
   "codemirror_mode": {
    "name": "ipython",
    "version": 3
   },
   "file_extension": ".py",
   "mimetype": "text/x-python",
   "name": "python",
   "nbconvert_exporter": "python",
   "pygments_lexer": "ipython3",
   "version": "3.10.0"
  },
  "orig_nbformat": 4
 },
 "nbformat": 4,
 "nbformat_minor": 2
}
